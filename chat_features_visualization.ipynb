{
  "nbformat": 4,
  "nbformat_minor": 0,
  "metadata": {
    "colab": {
      "name": "chat_features_visualization.ipynb",
      "version": "0.3.2",
      "provenance": [],
      "collapsed_sections": [],
      "include_colab_link": true
    },
    "kernelspec": {
      "name": "python3",
      "display_name": "Python 3"
    }
  },
  "cells": [
    {
      "cell_type": "markdown",
      "metadata": {
        "id": "view-in-github",
        "colab_type": "text"
      },
      "source": [
        "<a href=\"https://colab.research.google.com/github/HongyuJiang/Persona-Chatbot/blob/master/chat_features_visualization.ipynb\" target=\"_parent\"><img src=\"https://colab.research.google.com/assets/colab-badge.svg\" alt=\"Open In Colab\"/></a>"
      ]
    },
    {
      "metadata": {
        "id": "5jsER8oiVoXI",
        "colab_type": "code",
        "colab": {
          "base_uri": "https://localhost:8080/",
          "height": 35
        },
        "outputId": "8839b806-5275-4c03-85fd-39a1364f4f95"
      },
      "cell_type": "code",
      "source": [
        "from __future__ import absolute_import, division, print_function\n",
        "\n",
        "import numpy as np\n",
        "import os\n",
        "import time\n",
        "import datetime\n",
        "\n",
        "import plotly\n",
        "plotly.tools.set_credentials_file(username='gagamiaomiao', api_key='UUEINrmUusqzCyciYJUz')\n",
        "print(plotly.__version__)"
      ],
      "execution_count": 1,
      "outputs": [
        {
          "output_type": "stream",
          "text": [
            "3.6.1\n"
          ],
          "name": "stdout"
        }
      ]
    },
    {
      "metadata": {
        "id": "t5OqLX_mXIJr",
        "colab_type": "code",
        "colab": {
          "base_uri": "https://localhost:8080/",
          "height": 35
        },
        "outputId": "71c5b9c9-ed1d-4051-9d63-813bb49f3527"
      },
      "cell_type": "code",
      "source": [
        "# Load the Drive helper and mount\n",
        "from google.colab import drive\n",
        "\n",
        "# This will prompt for authorization.\n",
        "drive.mount('/content/drive')"
      ],
      "execution_count": 2,
      "outputs": [
        {
          "output_type": "stream",
          "text": [
            "Drive already mounted at /content/drive; to attempt to forcibly remount, call drive.mount(\"/content/drive\", force_remount=True).\n"
          ],
          "name": "stdout"
        }
      ]
    },
    {
      "metadata": {
        "id": "jzwmKbZWXLsG",
        "colab_type": "code",
        "colab": {
          "base_uri": "https://localhost:8080/",
          "height": 35
        },
        "outputId": "f90eaec0-5257-421f-c255-7360149bcdc9"
      },
      "cell_type": "code",
      "source": [
        "path_to_file = '/content/drive/My Drive/dark_learning/chatting_records2.txt'\n",
        "# Read, then decode for py2 compat.\n",
        "text = open(path_to_file, 'rb').read().decode(encoding='utf-8').replace('\\ufeff','').replace('[图片]', '嫐').replace('[表情]', '嬲') \n",
        "# length of text is the number of characters in it\n",
        "print ('Length of text: {} characters'.format(len(text)))"
      ],
      "execution_count": 3,
      "outputs": [
        {
          "output_type": "stream",
          "text": [
            "Length of text: 2610569 characters\n"
          ],
          "name": "stdout"
        }
      ]
    },
    {
      "metadata": {
        "id": "PqH0ZAdaXPJy",
        "colab_type": "code",
        "colab": {}
      },
      "cell_type": "code",
      "source": [
        "lines = text.split('\\r\\n')\n",
        "lines_len = len(lines)\n",
        "name_header = dict()\n",
        "rounds = []\n",
        "\n",
        "content = ''\n",
        "date = ''\n",
        "_time = ''\n",
        "speaker = ''\n",
        "\n",
        "for i in range(0, lines_len - 4):\n",
        "    \n",
        "  spaceNum = lines[i].count(' ')\n",
        "  maoNum = lines[i].count(':')\n",
        "\n",
        "  if spaceNum == 2 and maoNum == 2:\n",
        "    \n",
        "    meta = dict()\n",
        "    #print(speaker + ': ' + content + '\\n')\n",
        "    \n",
        "    round_info = lines[i].split(' ')\n",
        "    date = round_info[0]\n",
        "    _time = round_info[1]\n",
        "    speaker = round_info[2]\n",
        "    \n",
        "    meta['date'] = date\n",
        "    meta['time'] = _time\n",
        "    meta['nickname'] = speaker\n",
        "    meta['speaker'] = ''\n",
        "    meta['content'] = content\n",
        "    \n",
        "    rounds.append(meta)\n",
        "    \n",
        "    content = ''\n",
        "  else:\n",
        "    meta['content'] += lines[i].replace('\\r\\n','')\n",
        "  \n",
        "  if speaker in name_header:\n",
        "    name_header[speaker] += 1\n",
        "  else:\n",
        "    name_header[speaker] = 1\n",
        "  #print(speaker + ': ' + content + ' | ' + date)"
      ],
      "execution_count": 0,
      "outputs": []
    },
    {
      "metadata": {
        "id": "j1fL7lNTXTIT",
        "colab_type": "code",
        "colab": {}
      },
      "cell_type": "code",
      "source": [
        "for i in range(0, len(rounds)):\n",
        "  nickname = rounds[i]['nickname']\n",
        "  if nickname in {'蒋宏宇','蒋有毒','蒋有毒客服','有毒客服','略略略','🐷'}:\n",
        "    rounds[i]['speaker'] = '爸爸'\n",
        "  else: \n",
        "    if nickname == '啦':\n",
        "      rounds[i]['speaker'] = '幺儿'"
      ],
      "execution_count": 0,
      "outputs": []
    },
    {
      "metadata": {
        "id": "oC4DDU0oXW8d",
        "colab_type": "code",
        "colab": {
          "base_uri": "https://localhost:8080/",
          "height": 215
        },
        "outputId": "18afb843-d0d7-43b7-d643-a54e0eeeaf64"
      },
      "cell_type": "code",
      "source": [
        "contex_speaker = 'NULL'\n",
        "summerized_rounds = []\n",
        "\n",
        "\n",
        "for i in range(0, len(rounds)):\n",
        "  speaker = rounds[i]['speaker']\n",
        "  \n",
        "  if speaker == '':\n",
        "    continue\n",
        "    \n",
        "  if speaker == contex_speaker:\n",
        "    context_meta['content'] += ' ' + rounds[i]['content']\n",
        "  else:\n",
        "    if contex_speaker != 'NULL':\n",
        "      summerized_rounds.append(context_meta)\n",
        "      \n",
        "    contex_speaker = speaker\n",
        "    context_meta = dict()\n",
        "    context_meta['date'] = rounds[i]['date']\n",
        "    context_meta['time'] = rounds[i]['time']\n",
        "    context_meta['speaker'] = rounds[i]['speaker']\n",
        "    context_meta['content'] = rounds[i]['content']\n",
        "    \n",
        "    if i < len(rounds) - 1:\n",
        "      context_meta['receiver'] = rounds[i + 1]['nickname']\n",
        "    else:\n",
        "      context_meta['receiver'] = rounds[i - 1]['nickname']\n",
        "   \n",
        "\n",
        "print(len(summerized_rounds))\n",
        "\n",
        "for i in range(10):\n",
        "  print(summerized_rounds[i])"
      ],
      "execution_count": 6,
      "outputs": [
        {
          "output_type": "stream",
          "text": [
            "39744\n",
            "{'date': '2018-09-08', 'time': '8:20:40', 'speaker': '幺儿', 'content': '师兄 你什么方向啊?', 'receiver': '蒋宏宇'}\n",
            "{'date': '2018-09-08', 'time': '8:21:02', 'speaker': '爸爸', 'content': '可视化方向 新生见面会你好像没来吧', 'receiver': '蒋宏宇'}\n",
            "{'date': '2018-09-08', 'time': '8:50:28', 'speaker': '幺儿', 'content': '科学可视化跟信息可视化都是吗? 嫐', 'receiver': '啦'}\n",
            "{'date': '2018-09-08', 'time': '11:01:50', 'speaker': '爸爸', 'content': '都做过点 主要还是做可视分析 嫐', 'receiver': '蒋宏宇'}\n",
            "{'date': '2018-09-08', 'time': '12:00:17', 'speaker': '幺儿', 'content': '师兄我以后可能是做移动通信方面的，这边实验室的师兄说我学的跟你比较像，师兄以后多指教 嫐', 'receiver': '啦'}\n",
            "{'date': '2018-09-08', 'time': '12:00:48', 'speaker': '爸爸', 'content': '你做联通数据啊 可以的呢 前期我们已经发过几篇文章了', 'receiver': '蒋宏宇'}\n",
            "{'date': '2018-09-08', 'time': '12:01:21', 'speaker': '幺儿', 'content': '关键我现在就是个菜鸟 我今天还看了你的论文', 'receiver': '啦'}\n",
            "{'date': '2018-09-08', 'time': '12:01:39', 'speaker': '爸爸', 'content': '可以上实验室主页看看，又不能启发一下 找找新的点', 'receiver': '蒋宏宇'}\n",
            "{'date': '2018-09-08', 'time': '12:01:48', 'speaker': '幺儿', 'content': '好牛逼的样子', 'receiver': '蒋宏宇'}\n",
            "{'date': '2018-09-08', 'time': '12:01:53', 'speaker': '爸爸', 'content': '嫐', 'receiver': '啦'}\n"
          ],
          "name": "stdout"
        }
      ]
    },
    {
      "metadata": {
        "id": "eLxDk0Ms1jMV",
        "colab_type": "text"
      },
      "cell_type": "markdown",
      "source": [
        ""
      ]
    },
    {
      "metadata": {
        "id": "iN0TiftiZZNi",
        "colab_type": "code",
        "colab": {}
      },
      "cell_type": "code",
      "source": [
        "data_bucket = dict()\n",
        "\n",
        "for index in range(len(summerized_rounds)):\n",
        "  meta = summerized_rounds[index]\n",
        "  emoji_count = meta['content'].count('嬲')\n",
        "  image_count = meta['content'].count('嫐')\n",
        "  char_count = meta['content'].count(' ')\n",
        "  \n",
        "  #key_date = int(time_stamp)\n",
        "  key_date = meta['date']\n",
        "  if key_date in data_bucket:\n",
        "    data_bucket[key_date]['emoji'] += emoji_count\n",
        "    data_bucket[key_date]['image'] += image_count\n",
        "    data_bucket[key_date]['len'] += char_count\n",
        "  else:\n",
        "    data_bucket[key_date] = dict()\n",
        "    data_bucket[key_date]['emoji'] = emoji_count\n",
        "    data_bucket[key_date]['image'] = image_count\n",
        "    data_bucket[key_date]['len'] = char_count\n",
        "    \n",
        "#print(data_bucket)"
      ],
      "execution_count": 0,
      "outputs": []
    },
    {
      "metadata": {
        "id": "QabOEqHYWY72",
        "colab_type": "code",
        "colab": {
          "base_uri": "https://localhost:8080/",
          "height": 545
        },
        "outputId": "f5793917-8b98-4a24-c873-f84b5398faed"
      },
      "cell_type": "code",
      "source": [
        "import plotly.plotly as py\n",
        "import plotly.graph_objs as go\n",
        "\n",
        "emoji_sequence = [meta['emoji'] for meta in list(data_bucket.values())]\n",
        "image_sequence = [meta['image'] for meta in list(data_bucket.values())]\n",
        "length_sequence = [meta['len']/10 for meta in list(data_bucket.values())]\n",
        "\n",
        "\n",
        "trace1 = go.Bar(\n",
        "    x= list(data_bucket.keys()),\n",
        "    y= list(length_sequence),\n",
        "    name = '句子数量/10',\n",
        "    marker=dict(\n",
        "        color='rgb(158,202,225)',\n",
        "        line=dict(\n",
        "            color='rgb(8,48,107)',\n",
        "            width=0,\n",
        "        )\n",
        "    ),\n",
        ")\n",
        "\n",
        "trace2 = go.Scatter(\n",
        "    x= list(data_bucket.keys()),\n",
        "    y= list(image_sequence),\n",
        "    connectgaps=True,\n",
        "    name = '聊天图片数量',\n",
        "    marker=dict(\n",
        "        color='rgb(50,50,50)',\n",
        "     \n",
        "    ),\n",
        ")\n",
        "\n",
        "trace3 = go.Scatter(\n",
        "    x= list(data_bucket.keys()),\n",
        "    y= list(emoji_sequence),\n",
        "    connectgaps=True,\n",
        "    name = '表情数量',\n",
        "    marker=dict(\n",
        "        color='rgb(200,30,30)',\n",
        "       \n",
        "    ),\n",
        ")\n",
        "\n",
        "data = [trace1, trace2, trace3]\n",
        "\n",
        "fig = dict(data=data)\n",
        "py.iplot(fig, filename='simple-connectgaps')"
      ],
      "execution_count": 8,
      "outputs": [
        {
          "output_type": "execute_result",
          "data": {
            "text/html": [
              "<iframe id=\"igraph\" scrolling=\"no\" style=\"border:none;\" seamless=\"seamless\" src=\"https://plot.ly/~gagamiaomiao/7.embed\" height=\"525px\" width=\"100%\"></iframe>"
            ],
            "text/plain": [
              "<plotly.tools.PlotlyDisplay object>"
            ]
          },
          "metadata": {
            "tags": []
          },
          "execution_count": 8
        }
      ]
    },
    {
      "metadata": {
        "id": "jXbXBtfDHiEL",
        "colab_type": "code",
        "colab": {
          "base_uri": "https://localhost:8080/",
          "height": 545
        },
        "outputId": "29da35c3-c207-4421-a073-157c0b5e2fa7"
      },
      "cell_type": "code",
      "source": [
        "comparison_bucket = dict()\n",
        "\n",
        "for index in range(len(summerized_rounds)):\n",
        "  meta = summerized_rounds[index]\n",
        "\n",
        "  seq_count = len(meta['content'])\n",
        "  key_date = meta['date']\n",
        "  if key_date in comparison_bucket:\n",
        "    if meta['speaker'] == '爸爸':\n",
        "      comparison_bucket[key_date]['爸爸'] += seq_count\n",
        "    else:\n",
        "      comparison_bucket[key_date]['幺儿'] += seq_count\n",
        "  else:\n",
        "    comparison_bucket[key_date] = dict()\n",
        "    comparison_bucket[key_date]['爸爸'] = seq_count\n",
        "    comparison_bucket[key_date]['幺儿'] = seq_count\n",
        "    \n",
        "baba_sequence = [meta['爸爸'] for meta in list(comparison_bucket.values())]\n",
        "yaoer_sequence = [meta['幺儿'] for meta in list(comparison_bucket.values())]\n",
        "\n",
        "trace0 = go.Bar(\n",
        "    x= list(comparison_bucket.keys()),\n",
        "    y= list(baba_sequence),\n",
        "    name='爸爸',\n",
        "    marker=dict(\n",
        "        color='rgb(49,130,189)'\n",
        "    )\n",
        ")\n",
        "trace1 = go.Bar(\n",
        "    x= list(comparison_bucket.keys()),\n",
        "    y= list(yaoer_sequence),\n",
        "    name='幺儿',\n",
        "    marker=dict(\n",
        "        color='rgb(204,204,204)',\n",
        "    )\n",
        ")\n",
        "\n",
        "data = [trace0, trace1]\n",
        "\n",
        "layout = go.Layout(\n",
        "    xaxis=dict(tickangle=-45),\n",
        "    barmode='group',\n",
        ")\n",
        "\n",
        "fig = go.Figure(data=data, layout=layout)\n",
        "py.iplot(fig, filename='angled-text-bar')\n",
        "    "
      ],
      "execution_count": 9,
      "outputs": [
        {
          "output_type": "execute_result",
          "data": {
            "text/html": [
              "<iframe id=\"igraph\" scrolling=\"no\" style=\"border:none;\" seamless=\"seamless\" src=\"https://plot.ly/~gagamiaomiao/9.embed\" height=\"525px\" width=\"100%\"></iframe>"
            ],
            "text/plain": [
              "<plotly.tools.PlotlyDisplay object>"
            ]
          },
          "metadata": {
            "tags": []
          },
          "execution_count": 9
        }
      ]
    },
    {
      "metadata": {
        "id": "0w91pJPQszcG",
        "colab_type": "text"
      },
      "cell_type": "markdown",
      "source": [
        "# 主题词识别"
      ]
    },
    {
      "metadata": {
        "id": "Wgif1aBrs5AD",
        "colab_type": "code",
        "colab": {}
      },
      "cell_type": "code",
      "source": [
        "\n",
        "import matplotlib\n",
        "import scipy\n",
        "import matplotlib.pyplot as plt\n",
        "from sklearn import feature_extraction  \n",
        "from sklearn.feature_extraction.text import TfidfTransformer  \n",
        "from sklearn.feature_extraction.text import CountVectorizer\n",
        "from sklearn.feature_extraction.text import HashingVectorizer\n",
        "\n",
        "import jieba\n",
        "import jieba.posseg\n",
        "import pandas as pd\n",
        "import re"
      ],
      "execution_count": 0,
      "outputs": []
    },
    {
      "metadata": {
        "id": "-O40VYdJNCms",
        "colab_type": "code",
        "colab": {}
      },
      "cell_type": "code",
      "source": [
        "def cut_words_with_pos(text):\n",
        "    seg = jieba.posseg.cut(text)\n",
        "    res = []\n",
        "    for i in seg:\n",
        "        if i.flag in [\"a\", \"v\", \"x\", \"n\", \"an\", \"vn\", \"nz\", \"nt\", \"nr\"] and is_fine_word(i.word):\n",
        "            res.append(i.word)\n",
        "    return list(res)\n",
        "  \n",
        "def is_fine_word(word, min_length=2):\n",
        "    rule = re.compile(r\"^[\\u4e00-\\u9fa5]+$\")\n",
        "    if len(word) >= min_length and re.search(rule, word):\n",
        "        return True\n",
        "    else:\n",
        "        return False"
      ],
      "execution_count": 0,
      "outputs": []
    },
    {
      "metadata": {
        "id": "Rz_U9ClbFHkc",
        "colab_type": "code",
        "colab": {
          "base_uri": "https://localhost:8080/",
          "height": 647
        },
        "outputId": "9cab6e5e-e3ff-470f-98f5-b0e82aa8dd7b"
      },
      "cell_type": "code",
      "source": [
        "yaoer_sentences = []\n",
        "yaoer_words_fre = dict()\n",
        "\n",
        "for index in range(len(summerized_rounds)):\n",
        "  meta = summerized_rounds[index]\n",
        "  \n",
        "  if meta['speaker'] == '幺儿':\n",
        "    seg_list = cut_words_with_pos(meta['content'].strip())\n",
        "    yaoer_sentences += seg_list\n",
        "  \n",
        "cnt = pd.Series(yaoer_sentences).value_counts().head(30)\n",
        "      \n",
        "print(cnt)\n",
        "\n"
      ],
      "execution_count": 12,
      "outputs": [
        {
          "output_type": "stream",
          "text": [
            "Building prefix dict from the default dictionary ...\n",
            "Loading model from cache /tmp/jieba.cache\n",
            "Loading model cost 0.845 seconds.\n",
            "Prefix dict has been built succesfully.\n"
          ],
          "name": "stderr"
        },
        {
          "output_type": "stream",
          "text": [
            "觉得     938\n",
            "喜欢     531\n",
            "师兄     507\n",
            "没有     500\n",
            "感觉     481\n",
            "晓得     453\n",
            "可能     378\n",
            "时候     354\n",
            "看到     309\n",
            "应该     266\n",
            "不得     216\n",
            "有点     201\n",
            "不会     193\n",
            "搞笑     184\n",
            "没得     178\n",
            "知道     174\n",
            "肯定     166\n",
            "不能     160\n",
            "出来     157\n",
            "好像     157\n",
            "老板     153\n",
            "实验室    151\n",
            "还有     146\n",
            "好看     143\n",
            "娃子     143\n",
            "朋友     138\n",
            "不想     131\n",
            "老师     118\n",
            "吃饭     115\n",
            "手机     111\n",
            "dtype: int64\n"
          ],
          "name": "stdout"
        }
      ]
    },
    {
      "metadata": {
        "id": "S7kjENQsUtid",
        "colab_type": "code",
        "colab": {}
      },
      "cell_type": "code",
      "source": [
        "#!pip uninstall pbr\n",
        "#!pip install lda\n"
      ],
      "execution_count": 0,
      "outputs": []
    },
    {
      "metadata": {
        "id": "KWOhQxC2JXwg",
        "colab_type": "code",
        "colab": {
          "base_uri": "https://localhost:8080/",
          "height": 1446
        },
        "outputId": "77523c42-8ca4-4f81-e0b7-6fe7734b6466"
      },
      "cell_type": "code",
      "source": [
        "import lda\n",
        "import matplotlib.pyplot as plt\n",
        "import seaborn as sns\n",
        "\n",
        "yaoer_sentences_stage1 = []\n",
        "yaoer_sentences_stage2 = []\n",
        "yaoer_sentences_stage3 = []\n",
        "\n",
        "corpus = []\n",
        "\n",
        "for index in range(len(summerized_rounds)):\n",
        "  meta = summerized_rounds[index]\n",
        "  \n",
        "  if meta['receiver'] == '蒋宏宇':\n",
        "    seg_list = cut_words_with_pos(meta['content'].strip())\n",
        "    yaoer_sentences_stage1 += seg_list\n",
        "    \n",
        "  if meta['receiver'] == '蒋有毒' or meta['receiver'] == '蒋有毒客服' and meta['receiver'] == '有毒客服' and meta['receiver'] == '略略略':\n",
        "    seg_list = cut_words_with_pos(meta['content'].strip())\n",
        "    yaoer_sentences_stage2 += seg_list\n",
        "    \n",
        "  if meta['receiver'] == '🐷':\n",
        "    seg_list = cut_words_with_pos(meta['content'].strip())\n",
        "    yaoer_sentences_stage3 += seg_list\n",
        "\n",
        "corpus = [\" \".join(yaoer_sentences_stage1), \" \".join(yaoer_sentences_stage2), \" \".join(yaoer_sentences_stage3)]\n",
        "  \n",
        "vectorizer = CountVectorizer()\n",
        "X = vectorizer.fit_transform(corpus)\n",
        "weight = X.toarray()\n",
        "\n",
        "def plot_topic(doc_topic):\n",
        "    f, ax = plt.subplots(figsize=(10, 4))\n",
        "    cmap = sns.cubehelix_palette(start=1, rot=3, gamma=0.8, as_cmap=True)\n",
        "    sns.heatmap(doc_topic, linewidths=0.05, ax=ax)\n",
        "    ax.set_title('proportion per topic in every chapter')\n",
        "    ax.set_xlabel('topic')\n",
        "    ax.set_ylabel('chapter')\n",
        "    plt.show()\n",
        "    #f.savefig('output/topic_heatmap.jpg', bbox_inches='tight')\n",
        "\n",
        "\n",
        "def lda_train(weight, vectorizer):\n",
        "    model = lda.LDA(n_topics=5, n_iter=500, random_state=1)\n",
        "    model.fit(weight)\n",
        "\n",
        "    doc_num = len(weight)\n",
        "    topic_word = model.topic_word_\n",
        "    vocab = vectorizer.get_feature_names()\n",
        "    titles = [\"第{}章\".format(i) for i in range(1, doc_num + 1)]\n",
        "\n",
        "    n_top_words = 20\n",
        "    for i, topic_dist in enumerate(topic_word):\n",
        "        topic_words = np.array(vocab)[np.argsort(topic_dist)][:-(n_top_words + 1):-1]\n",
        "        print('Topic {}: {}'.format(i, ' '.join(topic_words)))\n",
        "\n",
        "    doc_topic = model.doc_topic_\n",
        "    #print(doc_topic, type(doc_topic))\n",
        "    plot_topic(doc_topic)\n",
        "    for i in range(doc_num):\n",
        "        print(\"{} (top topic: {})\".format(titles[i], np.argsort(doc_topic[i])[:-4:-1]))\n",
        "\n",
        "lda_train(weight, vectorizer)"
      ],
      "execution_count": 15,
      "outputs": [
        {
          "output_type": "stream",
          "text": [
            "INFO:lda:n_documents: 3\n",
            "INFO:lda:vocab_size: 5280\n",
            "INFO:lda:n_words: 17163\n",
            "INFO:lda:n_topics: 5\n",
            "INFO:lda:n_iter: 500\n",
            "INFO:lda:<0> log likelihood: -185218\n",
            "INFO:lda:<10> log likelihood: -156046\n",
            "INFO:lda:<20> log likelihood: -153808\n",
            "INFO:lda:<30> log likelihood: -153386\n",
            "INFO:lda:<40> log likelihood: -152732\n",
            "INFO:lda:<50> log likelihood: -152056\n",
            "INFO:lda:<60> log likelihood: -151455\n",
            "INFO:lda:<70> log likelihood: -151231\n",
            "INFO:lda:<80> log likelihood: -151243\n",
            "INFO:lda:<90> log likelihood: -151067\n",
            "INFO:lda:<100> log likelihood: -151084\n",
            "INFO:lda:<110> log likelihood: -150866\n",
            "INFO:lda:<120> log likelihood: -150826\n",
            "INFO:lda:<130> log likelihood: -150878\n",
            "INFO:lda:<140> log likelihood: -150980\n",
            "INFO:lda:<150> log likelihood: -150734\n",
            "INFO:lda:<160> log likelihood: -150861\n",
            "INFO:lda:<170> log likelihood: -150706\n",
            "INFO:lda:<180> log likelihood: -150625\n",
            "INFO:lda:<190> log likelihood: -150870\n",
            "INFO:lda:<200> log likelihood: -151120\n",
            "INFO:lda:<210> log likelihood: -150775\n",
            "INFO:lda:<220> log likelihood: -150961\n",
            "INFO:lda:<230> log likelihood: -150846\n",
            "INFO:lda:<240> log likelihood: -150720\n",
            "INFO:lda:<250> log likelihood: -150680\n",
            "INFO:lda:<260> log likelihood: -150608\n",
            "INFO:lda:<270> log likelihood: -150695\n",
            "INFO:lda:<280> log likelihood: -150588\n",
            "INFO:lda:<290> log likelihood: -150561\n",
            "INFO:lda:<300> log likelihood: -150447\n",
            "INFO:lda:<310> log likelihood: -150506\n",
            "INFO:lda:<320> log likelihood: -150446\n",
            "INFO:lda:<330> log likelihood: -150566\n",
            "INFO:lda:<340> log likelihood: -150570\n",
            "INFO:lda:<350> log likelihood: -150413\n",
            "INFO:lda:<360> log likelihood: -150509\n",
            "INFO:lda:<370> log likelihood: -150407\n",
            "INFO:lda:<380> log likelihood: -150598\n",
            "INFO:lda:<390> log likelihood: -150675\n",
            "INFO:lda:<400> log likelihood: -151050\n",
            "INFO:lda:<410> log likelihood: -150931\n",
            "INFO:lda:<420> log likelihood: -150665\n",
            "INFO:lda:<430> log likelihood: -150525\n",
            "INFO:lda:<440> log likelihood: -150504\n",
            "INFO:lda:<450> log likelihood: -150470\n",
            "INFO:lda:<460> log likelihood: -150560\n",
            "INFO:lda:<470> log likelihood: -150475\n",
            "INFO:lda:<480> log likelihood: -150610\n",
            "INFO:lda:<490> log likelihood: -150645\n",
            "INFO:lda:<499> log likelihood: -150383\n"
          ],
          "name": "stderr"
        },
        {
          "output_type": "stream",
          "text": [
            "Topic 0: 觉得 张兰云 朋友 女朋友 可爱 老子 拍手 不到 回来 红包 看到 老汉 小可爱 衣服 看过 看上去 不想 酒店 老赵 室友\n",
            "Topic 1: 晓得 肯定 还有 好像 出来 没有 吃饭 开始 联系 需要 屁屁 样子 好吃 出去 我会 有趣 男人 呵呵 学校 希望\n",
            "Topic 2: 知道 老板 应该 实验室 没有 看到 一般 不行 时间 师兄 学习 眼睛 厉害 论文 名字 看着 问题 数据 张野 有毒\n",
            "Topic 3: 没得 搞笑 不得 没事 起来 估计 恐怖 事情 蒋宏宇 结果 脑壳 老师 看看 女生 发现 说话 晚安 牛皮 论文 床上\n",
            "Topic 4: 喜欢 有点 感觉 可能 妹妹 时候 丁丁 好看 不会 变态 开心 卧槽 还好 不能 男朋友 意思 手机 人家 华容 回去\n"
          ],
          "name": "stdout"
        },
        {
          "output_type": "display_data",
          "data": {
            "image/png": "[encoded data removed]",
            "text/plain": [
              "<Figure size 720x288 with 2 Axes>"
            ]
          },
          "metadata": {
            "tags": []
          }
        },
        {
          "output_type": "stream",
          "text": [
            "第1章 (top topic: [2 1 3])\n",
            "第2章 (top topic: [2 4 3])\n",
            "第3章 (top topic: [4 1 0])\n"
          ],
          "name": "stdout"
        }
      ]
    }
  ]
}