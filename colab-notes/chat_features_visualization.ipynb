{
  "nbformat": 4,
  "nbformat_minor": 0,
  "metadata": {
    "colab": {
      "name": "chat_features_visualization.ipynb",
      "version": "0.3.2",
      "provenance": [],
      "collapsed_sections": [],
      "include_colab_link": true
    },
    "kernelspec": {
      "name": "python3",
      "display_name": "Python 3"
    }
  },
  "cells": [
    {
      "cell_type": "markdown",
      "metadata": {
        "id": "view-in-github",
        "colab_type": "text"
      },
      "source": [
        "<a href=\"https://colab.research.google.com/github/HongyuJiang/Persona-Chatbot/blob/master/chat_features_visualization.ipynb\" target=\"_parent\"><img src=\"https://colab.research.google.com/assets/colab-badge.svg\" alt=\"Open In Colab\"/></a>"
      ]
    },
    {
      "metadata": {
        "id": "5jsER8oiVoXI",
        "colab_type": "code",
        "outputId": "8839b806-5275-4c03-85fd-39a1364f4f95",
        "colab": {
          "base_uri": "https://localhost:8080/",
          "height": 35
        }
      },
      "cell_type": "code",
      "source": [
        "from __future__ import absolute_import, division, print_function\n",
        "\n",
        "import numpy as np\n",
        "import os\n",
        "import time\n",
        "import datetime\n",
        "\n",
        "import plotly\n",
        "plotly.tools.set_credentials_file(username='gagamiaomiao', api_key='UUEINrmUusqzCyciYJUz')\n",
        "print(plotly.__version__)"
      ],
      "execution_count": 0,
      "outputs": [
        {
          "output_type": "stream",
          "text": [
            "3.6.1\n"
          ],
          "name": "stdout"
        }
      ]
    },
    {
      "metadata": {
        "id": "t5OqLX_mXIJr",
        "colab_type": "code",
        "outputId": "71c5b9c9-ed1d-4051-9d63-813bb49f3527",
        "colab": {
          "base_uri": "https://localhost:8080/",
          "height": 35
        }
      },
      "cell_type": "code",
      "source": [
        "# Load the Drive helper and mount\n",
        "from google.colab import drive\n",
        "\n",
        "# This will prompt for authorization.\n",
        "drive.mount('/content/drive')"
      ],
      "execution_count": 0,
      "outputs": [
        {
          "output_type": "stream",
          "text": [
            "Drive already mounted at /content/drive; to attempt to forcibly remount, call drive.mount(\"/content/drive\", force_remount=True).\n"
          ],
          "name": "stdout"
        }
      ]
    },
    {
      "metadata": {
        "id": "jzwmKbZWXLsG",
        "colab_type": "code",
        "outputId": "f90eaec0-5257-421f-c255-7360149bcdc9",
        "colab": {
          "base_uri": "https://localhost:8080/",
          "height": 35
        }
      },
      "cell_type": "code",
      "source": [
        "path_to_file = '/content/drive/My Drive/dark_learning/chatting_records2.txt'\n",
        "# Read, then decode for py2 compat.\n",
        "text = open(path_to_file, 'rb').read().decode(encoding='utf-8').replace('\\ufeff','').replace('[图片]', '嫐').replace('[表情]', '嬲') \n",
        "# length of text is the number of characters in it\n",
        "print ('Length of text: {} characters'.format(len(text)))"
      ],
      "execution_count": 0,
      "outputs": [
        {
          "output_type": "stream",
          "text": [
            "Length of text: 2610569 characters\n"
          ],
          "name": "stdout"
        }
      ]
    },
    {
      "metadata": {
        "id": "PqH0ZAdaXPJy",
        "colab_type": "code",
        "colab": {}
      },
      "cell_type": "code",
      "source": [
        "lines = text.split('\\r\\n')\n",
        "lines_len = len(lines)\n",
        "name_header = dict()\n",
        "rounds = []\n",
        "\n",
        "content = ''\n",
        "date = ''\n",
        "_time = ''\n",
        "speaker = ''\n",
        "\n",
        "for i in range(0, lines_len - 4):\n",
        "    \n",
        "  spaceNum = lines[i].count(' ')\n",
        "  maoNum = lines[i].count(':')\n",
        "\n",
        "  if spaceNum == 2 and maoNum == 2:\n",
        "    \n",
        "    meta = dict()\n",
        "    #print(speaker + ': ' + content + '\\n')\n",
        "    \n",
        "    round_info = lines[i].split(' ')\n",
        "    date = round_info[0]\n",
        "    _time = round_info[1]\n",
        "    speaker = round_info[2]\n",
        "    \n",
        "    meta['date'] = date\n",
        "    meta['time'] = _time\n",
        "    meta['nickname'] = speaker\n",
        "    meta['speaker'] = ''\n",
        "    meta['content'] = content\n",
        "    \n",
        "    rounds.append(meta)\n",
        "    \n",
        "    content = ''\n",
        "  else:\n",
        "    meta['content'] += lines[i].replace('\\r\\n','')\n",
        "  \n",
        "  if speaker in name_header:\n",
        "    name_header[speaker] += 1\n",
        "  else:\n",
        "    name_header[speaker] = 1\n",
        "  #print(speaker + ': ' + content + ' | ' + date)"
      ],
      "execution_count": 0,
      "outputs": []
    },
    {
      "metadata": {
        "id": "j1fL7lNTXTIT",
        "colab_type": "code",
        "colab": {}
      },
      "cell_type": "code",
      "source": [
        "for i in range(0, len(rounds)):\n",
        "  nickname = rounds[i]['nickname']\n",
        "  if nickname in {'蒋宏宇','蒋有毒','蒋有毒客服','有毒客服','略略略','🐷'}:\n",
        "    rounds[i]['speaker'] = '爸爸'\n",
        "  else: \n",
        "    if nickname == '啦':\n",
        "      rounds[i]['speaker'] = '幺儿'"
      ],
      "execution_count": 0,
      "outputs": []
    },
    {
      "metadata": {
        "id": "oC4DDU0oXW8d",
        "colab_type": "code",
        "outputId": "18afb843-d0d7-43b7-d643-a54e0eeeaf64",
        "colab": {
          "base_uri": "https://localhost:8080/",
          "height": 215
        }
      },
      "cell_type": "code",
      "source": [
        "contex_speaker = 'NULL'\n",
        "summerized_rounds = []\n",
        "\n",
        "\n",
        "for i in range(0, len(rounds)):\n",
        "  speaker = rounds[i]['speaker']\n",
        "  \n",
        "  if speaker == '':\n",
        "    continue\n",
        "    \n",
        "  if speaker == contex_speaker:\n",
        "    context_meta['content'] += ' ' + rounds[i]['content']\n",
        "  else:\n",
        "    if contex_speaker != 'NULL':\n",
        "      summerized_rounds.append(context_meta)\n",
        "      \n",
        "    contex_speaker = speaker\n",
        "    context_meta = dict()\n",
        "    context_meta['date'] = rounds[i]['date']\n",
        "    context_meta['time'] = rounds[i]['time']\n",
        "    context_meta['speaker'] = rounds[i]['speaker']\n",
        "    context_meta['content'] = rounds[i]['content']\n",
        "    \n",
        "    if i < len(rounds) - 1:\n",
        "      context_meta['receiver'] = rounds[i + 1]['nickname']\n",
        "    else:\n",
        "      context_meta['receiver'] = rounds[i - 1]['nickname']\n",
        "   \n",
        "\n",
        "print(len(summerized_rounds))\n",
        "\n",
        "for i in range(10):\n",
        "  print(summerized_rounds[i])"
      ],
      "execution_count": 0,
      "outputs": [
        {
          "output_type": "stream",
          "text": [
            "39744\n",
            "{'date': '2018-09-08', 'time': '8:20:40', 'speaker': '幺儿', 'content': '师兄 你什么方向啊?', 'receiver': '蒋宏宇'}\n",
            "{'date': '2018-09-08', 'time': '8:21:02', 'speaker': '爸爸', 'content': '可视化方向 新生见面会你好像没来吧', 'receiver': '蒋宏宇'}\n",
            "{'date': '2018-09-08', 'time': '8:50:28', 'speaker': '幺儿', 'content': '科学可视化跟信息可视化都是吗? 嫐', 'receiver': '啦'}\n",
            "{'date': '2018-09-08', 'time': '11:01:50', 'speaker': '爸爸', 'content': '都做过点 主要还是做可视分析 嫐', 'receiver': '蒋宏宇'}\n",
            "{'date': '2018-09-08', 'time': '12:00:17', 'speaker': '幺儿', 'content': '师兄我以后可能是做移动通信方面的，这边实验室的师兄说我学的跟你比较像，师兄以后多指教 嫐', 'receiver': '啦'}\n",
            "{'date': '2018-09-08', 'time': '12:00:48', 'speaker': '爸爸', 'content': '你做联通数据啊 可以的呢 前期我们已经发过几篇文章了', 'receiver': '蒋宏宇'}\n",
            "{'date': '2018-09-08', 'time': '12:01:21', 'speaker': '幺儿', 'content': '关键我现在就是个菜鸟 我今天还看了你的论文', 'receiver': '啦'}\n",
            "{'date': '2018-09-08', 'time': '12:01:39', 'speaker': '爸爸', 'content': '可以上实验室主页看看，又不能启发一下 找找新的点', 'receiver': '蒋宏宇'}\n",
            "{'date': '2018-09-08', 'time': '12:01:48', 'speaker': '幺儿', 'content': '好牛逼的样子', 'receiver': '蒋宏宇'}\n",
            "{'date': '2018-09-08', 'time': '12:01:53', 'speaker': '爸爸', 'content': '嫐', 'receiver': '啦'}\n"
          ],
          "name": "stdout"
        }
      ]
    },
    {
      "metadata": {
        "id": "eLxDk0Ms1jMV",
        "colab_type": "text"
      },
      "cell_type": "markdown",
      "source": [
        ""
      ]
    },
    {
      "metadata": {
        "id": "iN0TiftiZZNi",
        "colab_type": "code",
        "colab": {}
      },
      "cell_type": "code",
      "source": [
        "data_bucket = dict()\n",
        "\n",
        "for index in range(len(summerized_rounds)):\n",
        "  meta = summerized_rounds[index]\n",
        "  emoji_count = meta['content'].count('嬲')\n",
        "  image_count = meta['content'].count('嫐')\n",
        "  char_count = meta['content'].count(' ')\n",
        "  \n",
        "  #key_date = int(time_stamp)\n",
        "  key_date = meta['date']\n",
        "  if key_date in data_bucket:\n",
        "    data_bucket[key_date]['emoji'] += emoji_count\n",
        "    data_bucket[key_date]['image'] += image_count\n",
        "    data_bucket[key_date]['len'] += char_count\n",
        "  else:\n",
        "    data_bucket[key_date] = dict()\n",
        "    data_bucket[key_date]['emoji'] = emoji_count\n",
        "    data_bucket[key_date]['image'] = image_count\n",
        "    data_bucket[key_date]['len'] = char_count\n",
        "    \n",
        "#print(data_bucket)"
      ],
      "execution_count": 0,
      "outputs": []
    },
    {
      "metadata": {
        "id": "QabOEqHYWY72",
        "colab_type": "code",
        "outputId": "f5793917-8b98-4a24-c873-f84b5398faed",
        "colab": {
          "base_uri": "https://localhost:8080/",
          "height": 545
        }
      },
      "cell_type": "code",
      "source": [
        "import plotly.plotly as py\n",
        "import plotly.graph_objs as go\n",
        "\n",
        "emoji_sequence = [meta['emoji'] for meta in list(data_bucket.values())]\n",
        "image_sequence = [meta['image'] for meta in list(data_bucket.values())]\n",
        "length_sequence = [meta['len']/10 for meta in list(data_bucket.values())]\n",
        "\n",
        "\n",
        "trace1 = go.Bar(\n",
        "    x= list(data_bucket.keys()),\n",
        "    y= list(length_sequence),\n",
        "    name = '句子数量/10',\n",
        "    marker=dict(\n",
        "        color='rgb(158,202,225)',\n",
        "        line=dict(\n",
        "            color='rgb(8,48,107)',\n",
        "            width=0,\n",
        "        )\n",
        "    ),\n",
        ")\n",
        "\n",
        "trace2 = go.Scatter(\n",
        "    x= list(data_bucket.keys()),\n",
        "    y= list(image_sequence),\n",
        "    connectgaps=True,\n",
        "    name = '聊天图片数量',\n",
        "    marker=dict(\n",
        "        color='rgb(50,50,50)',\n",
        "     \n",
        "    ),\n",
        ")\n",
        "\n",
        "trace3 = go.Scatter(\n",
        "    x= list(data_bucket.keys()),\n",
        "    y= list(emoji_sequence),\n",
        "    connectgaps=True,\n",
        "    name = '表情数量',\n",
        "    marker=dict(\n",
        "        color='rgb(200,30,30)',\n",
        "       \n",
        "    ),\n",
        ")\n",
        "\n",
        "data = [trace1, trace2, trace3]\n",
        "\n",
        "fig = dict(data=data)\n",
        "py.iplot(fig, filename='simple-connectgaps')"
      ],
      "execution_count": 0,
      "outputs": [
        {
          "output_type": "execute_result",
          "data": {
            "text/html": [
              "<iframe id=\"igraph\" scrolling=\"no\" style=\"border:none;\" seamless=\"seamless\" src=\"https://plot.ly/~gagamiaomiao/7.embed\" height=\"525px\" width=\"100%\"></iframe>"
            ],
            "text/plain": [
              "<plotly.tools.PlotlyDisplay object>"
            ]
          },
          "metadata": {
            "tags": []
          },
          "execution_count": 8
        }
      ]
    },
    {
      "metadata": {
        "id": "jXbXBtfDHiEL",
        "colab_type": "code",
        "outputId": "29da35c3-c207-4421-a073-157c0b5e2fa7",
        "colab": {
          "base_uri": "https://localhost:8080/",
          "height": 545
        }
      },
      "cell_type": "code",
      "source": [
        "comparison_bucket = dict()\n",
        "\n",
        "for index in range(len(summerized_rounds)):\n",
        "  meta = summerized_rounds[index]\n",
        "\n",
        "  seq_count = len(meta['content'])\n",
        "  key_date = meta['date']\n",
        "  if key_date in comparison_bucket:\n",
        "    if meta['speaker'] == '爸爸':\n",
        "      comparison_bucket[key_date]['爸爸'] += seq_count\n",
        "    else:\n",
        "      comparison_bucket[key_date]['幺儿'] += seq_count\n",
        "  else:\n",
        "    comparison_bucket[key_date] = dict()\n",
        "    comparison_bucket[key_date]['爸爸'] = seq_count\n",
        "    comparison_bucket[key_date]['幺儿'] = seq_count\n",
        "    \n",
        "baba_sequence = [meta['爸爸'] for meta in list(comparison_bucket.values())]\n",
        "yaoer_sequence = [meta['幺儿'] for meta in list(comparison_bucket.values())]\n",
        "\n",
        "trace0 = go.Bar(\n",
        "    x= list(comparison_bucket.keys()),\n",
        "    y= list(baba_sequence),\n",
        "    name='爸爸',\n",
        "    marker=dict(\n",
        "        color='rgb(49,130,189)'\n",
        "    )\n",
        ")\n",
        "trace1 = go.Bar(\n",
        "    x= list(comparison_bucket.keys()),\n",
        "    y= list(yaoer_sequence),\n",
        "    name='幺儿',\n",
        "    marker=dict(\n",
        "        color='rgb(204,204,204)',\n",
        "    )\n",
        ")\n",
        "\n",
        "data = [trace0, trace1]\n",
        "\n",
        "layout = go.Layout(\n",
        "    xaxis=dict(tickangle=-45),\n",
        "    barmode='group',\n",
        ")\n",
        "\n",
        "fig = go.Figure(data=data, layout=layout)\n",
        "py.iplot(fig, filename='angled-text-bar')\n",
        "    "
      ],
      "execution_count": 0,
      "outputs": [
        {
          "output_type": "execute_result",
          "data": {
            "text/html": [
              "<iframe id=\"igraph\" scrolling=\"no\" style=\"border:none;\" seamless=\"seamless\" src=\"https://plot.ly/~gagamiaomiao/9.embed\" height=\"525px\" width=\"100%\"></iframe>"
            ],
            "text/plain": [
              "<plotly.tools.PlotlyDisplay object>"
            ]
          },
          "metadata": {
            "tags": []
          },
          "execution_count": 9
        }
      ]
    },
    {
      "metadata": {
        "id": "0w91pJPQszcG",
        "colab_type": "text"
      },
      "cell_type": "markdown",
      "source": [
        "# 主题词识别"
      ]
    },
    {
      "metadata": {
        "id": "Wgif1aBrs5AD",
        "colab_type": "code",
        "colab": {}
      },
      "cell_type": "code",
      "source": [
        "\n",
        "import matplotlib\n",
        "import scipy\n",
        "import matplotlib.pyplot as plt\n",
        "from sklearn import feature_extraction  \n",
        "from sklearn.feature_extraction.text import TfidfTransformer  \n",
        "from sklearn.feature_extraction.text import CountVectorizer\n",
        "from sklearn.feature_extraction.text import HashingVectorizer\n",
        "\n",
        "import jieba\n",
        "import jieba.posseg\n",
        "import pandas as pd\n",
        "import re"
      ],
      "execution_count": 0,
      "outputs": []
    },
    {
      "metadata": {
        "id": "-O40VYdJNCms",
        "colab_type": "code",
        "colab": {}
      },
      "cell_type": "code",
      "source": [
        "def cut_words_with_pos(text):\n",
        "    seg = jieba.posseg.cut(text)\n",
        "    res = []\n",
        "    for i in seg:\n",
        "        if i.flag in [\"a\", \"v\", \"x\", \"n\", \"an\", \"vn\", \"nz\", \"nt\", \"nr\"] and is_fine_word(i.word):\n",
        "            res.append(i.word)\n",
        "    return list(res)\n",
        "  \n",
        "def is_fine_word(word, min_length=2):\n",
        "    rule = re.compile(r\"^[\\u4e00-\\u9fa5]+$\")\n",
        "    if len(word) >= min_length and re.search(rule, word):\n",
        "        return True\n",
        "    else:\n",
        "        return False"
      ],
      "execution_count": 0,
      "outputs": []
    },
    {
      "metadata": {
        "id": "Rz_U9ClbFHkc",
        "colab_type": "code",
        "outputId": "9cab6e5e-e3ff-470f-98f5-b0e82aa8dd7b",
        "colab": {
          "base_uri": "https://localhost:8080/",
          "height": 647
        }
      },
      "cell_type": "code",
      "source": [
        "yaoer_sentences = []\n",
        "yaoer_words_fre = dict()\n",
        "\n",
        "for index in range(len(summerized_rounds)):\n",
        "  meta = summerized_rounds[index]\n",
        "  \n",
        "  if meta['speaker'] == '幺儿':\n",
        "    seg_list = cut_words_with_pos(meta['content'].strip())\n",
        "    yaoer_sentences += seg_list\n",
        "  \n",
        "cnt = pd.Series(yaoer_sentences).value_counts().head(30)\n",
        "      \n",
        "print(cnt)\n",
        "\n"
      ],
      "execution_count": 0,
      "outputs": [
        {
          "output_type": "stream",
          "text": [
            "Building prefix dict from the default dictionary ...\n",
            "Loading model from cache /tmp/jieba.cache\n",
            "Loading model cost 0.845 seconds.\n",
            "Prefix dict has been built succesfully.\n"
          ],
          "name": "stderr"
        },
        {
          "output_type": "stream",
          "text": [
            "觉得     938\n",
            "喜欢     531\n",
            "师兄     507\n",
            "没有     500\n",
            "感觉     481\n",
            "晓得     453\n",
            "可能     378\n",
            "时候     354\n",
            "看到     309\n",
            "应该     266\n",
            "不得     216\n",
            "有点     201\n",
            "不会     193\n",
            "搞笑     184\n",
            "没得     178\n",
            "知道     174\n",
            "肯定     166\n",
            "不能     160\n",
            "出来     157\n",
            "好像     157\n",
            "老板     153\n",
            "实验室    151\n",
            "还有     146\n",
            "好看     143\n",
            "娃子     143\n",
            "朋友     138\n",
            "不想     131\n",
            "老师     118\n",
            "吃饭     115\n",
            "手机     111\n",
            "dtype: int64\n"
          ],
          "name": "stdout"
        }
      ]
    },
    {
      "metadata": {
        "id": "S7kjENQsUtid",
        "colab_type": "code",
        "colab": {}
      },
      "cell_type": "code",
      "source": [
        "#!pip uninstall pbr\n",
        "#!pip install lda\n"
      ],
      "execution_count": 0,
      "outputs": []
    },
    {
      "metadata": {
        "id": "KWOhQxC2JXwg",
        "colab_type": "code",
        "outputId": "e981dab8-3f64-495f-c529-8f4438114cb6",
        "colab": {
          "base_uri": "https://localhost:8080/",
          "height": 4290
        }
      },
      "cell_type": "code",
      "source": [
        "import lda\n",
        "import matplotlib.pyplot as plt\n",
        "import seaborn as sns\n",
        "\n",
        "yaoer_sentences_stage1 = []\n",
        "yaoer_sentences_stage2 = []\n",
        "yaoer_sentences_stage3 = []\n",
        "yaoer_sentences_stage4 = []\n",
        "yaoer_sentences_stage5 = []\n",
        "yaoer_sentences_stage6 = []\n",
        "\n",
        "corpus = []\n",
        "\n",
        "for index in range(len(summerized_rounds)):\n",
        "  meta = summerized_rounds[index]\n",
        "  \n",
        "  if meta['receiver'] == '蒋宏宇':\n",
        "    seg_list = cut_words_with_pos(meta['content'].strip())\n",
        "    yaoer_sentences_stage1 += seg_list\n",
        "    \n",
        "  if meta['receiver'] == '蒋有毒':\n",
        "    seg_list = cut_words_with_pos(meta['content'].strip())\n",
        "    yaoer_sentences_stage2 += seg_list\n",
        "    \n",
        "  if meta['receiver'] == '蒋有毒客服':\n",
        "    seg_list = cut_words_with_pos(meta['content'].strip())\n",
        "    yaoer_sentences_stage3 += seg_list\n",
        "  \n",
        "  if  meta['receiver'] == '有毒客服':\n",
        "    seg_list = cut_words_with_pos(meta['content'].strip())\n",
        "    yaoer_sentences_stage4 += seg_list\n",
        "  \n",
        "  if meta['receiver'] == '略略略':\n",
        "    seg_list = cut_words_with_pos(meta['content'].strip())\n",
        "    yaoer_sentences_stage5 += seg_list\n",
        "    \n",
        "  if meta['receiver'] == '🐷':\n",
        "    seg_list = cut_words_with_pos(meta['content'].strip())\n",
        "    yaoer_sentences_stage6 += seg_list\n",
        "\n",
        "corpus = [\" \".join(yaoer_sentences_stage1), \" \".join(yaoer_sentences_stage2), \" \".join(yaoer_sentences_stage3), \" \".join(yaoer_sentences_stage4), \" \".join(yaoer_sentences_stage5), \" \".join(yaoer_sentences_stage6)]\n",
        "  \n",
        "vectorizer = CountVectorizer()\n",
        "X = vectorizer.fit_transform(corpus)\n",
        "weight = X.toarray()\n",
        "\n",
        "def plot_topic_words(topic_word):\n",
        "    plt.figure(figsize=(8, 9))\n",
        "    # f, ax = plt.subplots(5, 1, sharex=True)\n",
        "    for i, k in enumerate([0, 5, 9, 14, 19]):\n",
        "        ax = plt.subplot(5, 1, i+1)\n",
        "        ax.plot(topic_word[k, :], 'r-')\n",
        "        ax.set_xlim(-50, 4350)   # [0,4258]\n",
        "        ax.set_ylim(0, 0.08)\n",
        "        ax.set_ylabel(u\"概率\")\n",
        "        ax.set_title(u\"主题 {}\".format(k))\n",
        "    plt.xlabel(u\"词\", fontsize=14)\n",
        "    plt.tight_layout()\n",
        "    plt.suptitle(u'主题的词分布', fontsize=18)\n",
        "    plt.subplots_adjust(top=0.9)\n",
        "    plt.show()\n",
        "\n",
        "def plot_topic(doc_topic):\n",
        "    f, ax = plt.subplots(figsize=(10, 4))\n",
        "    cmap = sns.cubehelix_palette(start=1, rot=3, gamma=0.8, as_cmap=True)\n",
        "    sns.heatmap(doc_topic.T, linewidths=0.05, ax=ax)\n",
        "    ax.set_title('Chat Topic in Each Stage')\n",
        "    ax.set_xlabel('Stage')\n",
        "    ax.set_ylabel('Topic')\n",
        "    plt.show()\n",
        "    #f.savefig('output/topic_heatmap.jpg', bbox_inches='tight')\n",
        "\n",
        "\n",
        "def lda_train(weight, vectorizer):\n",
        "    model = lda.LDA(n_topics=10, n_iter=2000, random_state=1)\n",
        "    model.fit(weight)\n",
        "\n",
        "    doc_num = len(weight)\n",
        "    topic_word = model.topic_word_\n",
        "    vocab = vectorizer.get_feature_names()\n",
        "    titles = [\"Stage{}\".format(i) for i in range(1, doc_num + 1)]\n",
        "\n",
        "    n_top_words = 20\n",
        "    for i, topic_dist in enumerate(topic_word):\n",
        "        topic_words = np.array(vocab)[np.argsort(topic_dist)][:-(n_top_words + 1):-1]\n",
        "        print('Topic {}: {}'.format(i, ' '.join(topic_words)))\n",
        "\n",
        "    doc_topic = model.doc_topic_\n",
        "    #print(doc_topic, type(doc_topic))\n",
        "    plot_topic(doc_topic)\n",
        "    for i in range(doc_num):\n",
        "        print(\"{} (top topic: {})\".format(titles[i], np.argsort(doc_topic[i])[:-4:-1]))\n",
        "\n",
        "lda_train(weight, vectorizer)"
      ],
      "execution_count": 0,
      "outputs": [
        {
          "output_type": "stream",
          "text": [
            "INFO:lda:n_documents: 6\n",
            "INFO:lda:vocab_size: 6405\n",
            "INFO:lda:n_words: 22589\n",
            "INFO:lda:n_topics: 10\n",
            "INFO:lda:n_iter: 2000\n",
            "INFO:lda:<0> log likelihood: -260958\n",
            "INFO:lda:<10> log likelihood: -210673\n",
            "INFO:lda:<20> log likelihood: -206265\n",
            "INFO:lda:<30> log likelihood: -204660\n",
            "INFO:lda:<40> log likelihood: -203991\n",
            "INFO:lda:<50> log likelihood: -203433\n",
            "INFO:lda:<60> log likelihood: -202812\n",
            "INFO:lda:<70> log likelihood: -202840\n",
            "INFO:lda:<80> log likelihood: -202438\n",
            "INFO:lda:<90> log likelihood: -202111\n",
            "INFO:lda:<100> log likelihood: -201907\n",
            "INFO:lda:<110> log likelihood: -202048\n",
            "INFO:lda:<120> log likelihood: -201834\n",
            "INFO:lda:<130> log likelihood: -202022\n",
            "INFO:lda:<140> log likelihood: -202075\n",
            "INFO:lda:<150> log likelihood: -201417\n",
            "INFO:lda:<160> log likelihood: -201189\n",
            "INFO:lda:<170> log likelihood: -201117\n",
            "INFO:lda:<180> log likelihood: -201732\n",
            "INFO:lda:<190> log likelihood: -201463\n",
            "INFO:lda:<200> log likelihood: -201348\n",
            "INFO:lda:<210> log likelihood: -200925\n",
            "INFO:lda:<220> log likelihood: -201228\n",
            "INFO:lda:<230> log likelihood: -200759\n",
            "INFO:lda:<240> log likelihood: -200392\n",
            "INFO:lda:<250> log likelihood: -200580\n",
            "INFO:lda:<260> log likelihood: -200440\n",
            "INFO:lda:<270> log likelihood: -200577\n",
            "INFO:lda:<280> log likelihood: -200821\n",
            "INFO:lda:<290> log likelihood: -200791\n",
            "INFO:lda:<300> log likelihood: -200399\n",
            "INFO:lda:<310> log likelihood: -200660\n",
            "INFO:lda:<320> log likelihood: -200522\n",
            "INFO:lda:<330> log likelihood: -200789\n",
            "INFO:lda:<340> log likelihood: -200432\n",
            "INFO:lda:<350> log likelihood: -200675\n",
            "INFO:lda:<360> log likelihood: -200624\n",
            "INFO:lda:<370> log likelihood: -200680\n",
            "INFO:lda:<380> log likelihood: -200684\n",
            "INFO:lda:<390> log likelihood: -200635\n",
            "INFO:lda:<400> log likelihood: -200553\n",
            "INFO:lda:<410> log likelihood: -200636\n",
            "INFO:lda:<420> log likelihood: -200847\n",
            "INFO:lda:<430> log likelihood: -200514\n",
            "INFO:lda:<440> log likelihood: -200675\n",
            "INFO:lda:<450> log likelihood: -200403\n",
            "INFO:lda:<460> log likelihood: -200423\n",
            "INFO:lda:<470> log likelihood: -200352\n",
            "INFO:lda:<480> log likelihood: -200132\n",
            "INFO:lda:<490> log likelihood: -200405\n",
            "INFO:lda:<500> log likelihood: -199907\n",
            "INFO:lda:<510> log likelihood: -200030\n",
            "INFO:lda:<520> log likelihood: -200129\n",
            "INFO:lda:<530> log likelihood: -199908\n",
            "INFO:lda:<540> log likelihood: -199983\n",
            "INFO:lda:<550> log likelihood: -199950\n",
            "INFO:lda:<560> log likelihood: -200014\n",
            "INFO:lda:<570> log likelihood: -199923\n",
            "INFO:lda:<580> log likelihood: -199941\n",
            "INFO:lda:<590> log likelihood: -200234\n",
            "INFO:lda:<600> log likelihood: -200114\n",
            "INFO:lda:<610> log likelihood: -200257\n",
            "INFO:lda:<620> log likelihood: -200304\n",
            "INFO:lda:<630> log likelihood: -200093\n",
            "INFO:lda:<640> log likelihood: -200072\n",
            "INFO:lda:<650> log likelihood: -200002\n",
            "INFO:lda:<660> log likelihood: -199906\n",
            "INFO:lda:<670> log likelihood: -200323\n",
            "INFO:lda:<680> log likelihood: -200000\n",
            "INFO:lda:<690> log likelihood: -199764\n",
            "INFO:lda:<700> log likelihood: -199674\n",
            "INFO:lda:<710> log likelihood: -199854\n",
            "INFO:lda:<720> log likelihood: -199729\n",
            "INFO:lda:<730> log likelihood: -199716\n",
            "INFO:lda:<740> log likelihood: -200085\n",
            "INFO:lda:<750> log likelihood: -199833\n",
            "INFO:lda:<760> log likelihood: -199879\n",
            "INFO:lda:<770> log likelihood: -199829\n",
            "INFO:lda:<780> log likelihood: -199716\n",
            "INFO:lda:<790> log likelihood: -199698\n",
            "INFO:lda:<800> log likelihood: -199933\n",
            "INFO:lda:<810> log likelihood: -199815\n",
            "INFO:lda:<820> log likelihood: -200047\n",
            "INFO:lda:<830> log likelihood: -199593\n",
            "INFO:lda:<840> log likelihood: -199601\n",
            "INFO:lda:<850> log likelihood: -199442\n",
            "INFO:lda:<860> log likelihood: -199680\n",
            "INFO:lda:<870> log likelihood: -199460\n",
            "INFO:lda:<880> log likelihood: -200005\n",
            "INFO:lda:<890> log likelihood: -199617\n",
            "INFO:lda:<900> log likelihood: -199652\n",
            "INFO:lda:<910> log likelihood: -199776\n",
            "INFO:lda:<920> log likelihood: -199966\n",
            "INFO:lda:<930> log likelihood: -199797\n",
            "INFO:lda:<940> log likelihood: -199681\n",
            "INFO:lda:<950> log likelihood: -199688\n",
            "INFO:lda:<960> log likelihood: -199897\n",
            "INFO:lda:<970> log likelihood: -199392\n",
            "INFO:lda:<980> log likelihood: -199792\n",
            "INFO:lda:<990> log likelihood: -199849\n",
            "INFO:lda:<1000> log likelihood: -199754\n",
            "INFO:lda:<1010> log likelihood: -199645\n",
            "INFO:lda:<1020> log likelihood: -199865\n",
            "INFO:lda:<1030> log likelihood: -200078\n",
            "INFO:lda:<1040> log likelihood: -199603\n",
            "INFO:lda:<1050> log likelihood: -200070\n",
            "INFO:lda:<1060> log likelihood: -199940\n",
            "INFO:lda:<1070> log likelihood: -199778\n",
            "INFO:lda:<1080> log likelihood: -199710\n",
            "INFO:lda:<1090> log likelihood: -199901\n",
            "INFO:lda:<1100> log likelihood: -199654\n",
            "INFO:lda:<1110> log likelihood: -199763\n",
            "INFO:lda:<1120> log likelihood: -199660\n",
            "INFO:lda:<1130> log likelihood: -199604\n",
            "INFO:lda:<1140> log likelihood: -199848\n",
            "INFO:lda:<1150> log likelihood: -199900\n",
            "INFO:lda:<1160> log likelihood: -199887\n",
            "INFO:lda:<1170> log likelihood: -199618\n",
            "INFO:lda:<1180> log likelihood: -199430\n",
            "INFO:lda:<1190> log likelihood: -199558\n",
            "INFO:lda:<1200> log likelihood: -200204\n",
            "INFO:lda:<1210> log likelihood: -199854\n",
            "INFO:lda:<1220> log likelihood: -199629\n",
            "INFO:lda:<1230> log likelihood: -199950\n",
            "INFO:lda:<1240> log likelihood: -199667\n",
            "INFO:lda:<1250> log likelihood: -199671\n",
            "INFO:lda:<1260> log likelihood: -199764\n",
            "INFO:lda:<1270> log likelihood: -199548\n",
            "INFO:lda:<1280> log likelihood: -199584\n",
            "INFO:lda:<1290> log likelihood: -199499\n",
            "INFO:lda:<1300> log likelihood: -199560\n",
            "INFO:lda:<1310> log likelihood: -199767\n",
            "INFO:lda:<1320> log likelihood: -199740\n",
            "INFO:lda:<1330> log likelihood: -199668\n",
            "INFO:lda:<1340> log likelihood: -199761\n",
            "INFO:lda:<1350> log likelihood: -199347\n",
            "INFO:lda:<1360> log likelihood: -199472\n",
            "INFO:lda:<1370> log likelihood: -199255\n",
            "INFO:lda:<1380> log likelihood: -199404\n",
            "INFO:lda:<1390> log likelihood: -199422\n",
            "INFO:lda:<1400> log likelihood: -199604\n",
            "INFO:lda:<1410> log likelihood: -199478\n",
            "INFO:lda:<1420> log likelihood: -199586\n",
            "INFO:lda:<1430> log likelihood: -199560\n",
            "INFO:lda:<1440> log likelihood: -199687\n",
            "INFO:lda:<1450> log likelihood: -199843\n",
            "INFO:lda:<1460> log likelihood: -199503\n",
            "INFO:lda:<1470> log likelihood: -199485\n",
            "INFO:lda:<1480> log likelihood: -199478\n",
            "INFO:lda:<1490> log likelihood: -199617\n",
            "INFO:lda:<1500> log likelihood: -199739\n",
            "INFO:lda:<1510> log likelihood: -199834\n",
            "INFO:lda:<1520> log likelihood: -200060\n",
            "INFO:lda:<1530> log likelihood: -200027\n",
            "INFO:lda:<1540> log likelihood: -199740\n",
            "INFO:lda:<1550> log likelihood: -199488\n",
            "INFO:lda:<1560> log likelihood: -199517\n",
            "INFO:lda:<1570> log likelihood: -199681\n",
            "INFO:lda:<1580> log likelihood: -199871\n",
            "INFO:lda:<1590> log likelihood: -199937\n",
            "INFO:lda:<1600> log likelihood: -199730\n",
            "INFO:lda:<1610> log likelihood: -199338\n",
            "INFO:lda:<1620> log likelihood: -199650\n",
            "INFO:lda:<1630> log likelihood: -199735\n",
            "INFO:lda:<1640> log likelihood: -199783\n",
            "INFO:lda:<1650> log likelihood: -199757\n",
            "INFO:lda:<1660> log likelihood: -199681\n",
            "INFO:lda:<1670> log likelihood: -199896\n",
            "INFO:lda:<1680> log likelihood: -199369\n",
            "INFO:lda:<1690> log likelihood: -199426\n",
            "INFO:lda:<1700> log likelihood: -199934\n",
            "INFO:lda:<1710> log likelihood: -200002\n",
            "INFO:lda:<1720> log likelihood: -200108\n",
            "INFO:lda:<1730> log likelihood: -199758\n",
            "INFO:lda:<1740> log likelihood: -199901\n",
            "INFO:lda:<1750> log likelihood: -200021\n",
            "INFO:lda:<1760> log likelihood: -199817\n",
            "INFO:lda:<1770> log likelihood: -199614\n",
            "INFO:lda:<1780> log likelihood: -199783\n",
            "INFO:lda:<1790> log likelihood: -199713\n",
            "INFO:lda:<1800> log likelihood: -199448\n",
            "INFO:lda:<1810> log likelihood: -199542\n",
            "INFO:lda:<1820> log likelihood: -199410\n",
            "INFO:lda:<1830> log likelihood: -199757\n",
            "INFO:lda:<1840> log likelihood: -199840\n",
            "INFO:lda:<1850> log likelihood: -199500\n",
            "INFO:lda:<1860> log likelihood: -199603\n",
            "INFO:lda:<1870> log likelihood: -199530\n",
            "INFO:lda:<1880> log likelihood: -199451\n",
            "INFO:lda:<1890> log likelihood: -199290\n",
            "INFO:lda:<1900> log likelihood: -199746\n",
            "INFO:lda:<1910> log likelihood: -199302\n",
            "INFO:lda:<1920> log likelihood: -199244\n",
            "INFO:lda:<1930> log likelihood: -199552\n",
            "INFO:lda:<1940> log likelihood: -199603\n",
            "INFO:lda:<1950> log likelihood: -199742\n",
            "INFO:lda:<1960> log likelihood: -199149\n",
            "INFO:lda:<1970> log likelihood: -199359\n",
            "INFO:lda:<1980> log likelihood: -199656\n",
            "INFO:lda:<1990> log likelihood: -199566\n",
            "INFO:lda:<1999> log likelihood: -199278\n"
          ],
          "name": "stderr"
        },
        {
          "output_type": "stream",
          "text": [
            "Topic 0: 女朋友 老汉 死鬼 头发 意思 学妹 照片 造孽 哭哭 女人 适合 有没有 聊天 狗子 复杂 可能 便宜 理解 妈妈 毛毛\n",
            "Topic 1: 觉得 喜欢 有点 感觉 可能 晓得 没得 时候 应该 看到 不会 肯定 好像 知道 出来 不得 开心 变态 起来 卧槽\n",
            "Topic 2: 估计 需要 兰云 有趣 看上去 容易 舒服 老赵 消息 看来 简单 神奇 韩老板 厕所 洗澡 面膜 机会 挨打 嘴巴 娃儿\n",
            "Topic 3: 人家 名字 只能 说话 奇怪 生活 打开 找到 闭嘴 毕业 作业 不好意思 笨猪 英语 快乐 推荐 不错 技术 早饭 欧科\n",
            "Topic 4: 代码 孩子 男人 垃圾 女人 呵呵 辣种 挨打 说话 上课 学习 渣渣 范良 兄弟 算了 安逸 爸妈 柠檬 浪门 害羞\n",
            "Topic 5: 没有 实验室 老板 还有 不能 恐怖 老师 结果 手机 不到 论文 时间 脑壳 发现 样子 问题 看看 电脑 华容 准备\n",
            "Topic 6: 师兄 学习 有毒 数据 厉害 紧张 同学 知道 意思 文件 可视化 遇到 不用 数据库 网易 工作 首歌 医生 连接 动漫\n",
            "Topic 7: 妹妹 丁丁 联系 可爱 拍手 蒋宏宇 红包 喜欢 小可爱 室友 酒店 刺激 结婚 身体 鸡哥 骚气 温柔 菊花 老婆 继续\n",
            "Topic 8: 喜欢 好看 没事 看着 狗日 晚安 不用 床上 不了 坐在 愿意 房子 屁股 看起 进去 动作 恼火 霍霍 色情 小时候\n",
            "Topic 9: 张兰云 搞笑 还好 老子 屁屁 衣服 想想 幸福 前女友 收拾 哈麻 鞋子 没救 垃圾 回家 性感 项目 煮饭 习惯 学生\n"
          ],
          "name": "stdout"
        },
        {
          "output_type": "display_data",
          "data": {
            "image/png": "[encoded data removed]",
            "text/plain": [
              "<Figure size 720x288 with 2 Axes>"
            ]
          },
          "metadata": {
            "tags": []
          }
        },
        {
          "output_type": "stream",
          "text": [
            "Stage1 (top topic: [6 5 1])\n",
            "Stage2 (top topic: [6 8 1])\n",
            "Stage3 (top topic: [6 5 1])\n",
            "Stage4 (top topic: [1 4 5])\n",
            "Stage5 (top topic: [1 5 0])\n",
            "Stage6 (top topic: [1 5 7])\n"
          ],
          "name": "stdout"
        }
      ]
    },
    {
      "metadata": {
        "id": "z4-opXUJ8_36",
        "colab_type": "code",
        "colab": {}
      },
      "cell_type": "code",
      "source": [
        ""
      ],
      "execution_count": 0,
      "outputs": []
    }
  ]
}