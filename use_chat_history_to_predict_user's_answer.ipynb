{
  "nbformat": 4,
  "nbformat_minor": 0,
  "metadata": {
    "colab": {
      "name": "use chat history to predict user's answer",
      "version": "0.3.2",
      "provenance": [],
      "collapsed_sections": [],
      "toc_visible": true,
      "include_colab_link": true
    },
    "kernelspec": {
      "name": "python3",
      "display_name": "Python 3"
    },
    "accelerator": "GPU"
  },
  "cells": [
    {
      "cell_type": "markdown",
      "metadata": {
        "id": "view-in-github",
        "colab_type": "text"
      },
      "source": [
        "<a href=\"https://colab.research.google.com/github/HongyuJiang/Dialogue-Generation-with-Persona---A-Note/blob/master/use_chat_history_to_predict_user's_answer.ipynb\" target=\"_parent\"><img src=\"https://colab.research.google.com/assets/colab-badge.svg\" alt=\"Open In Colab\"/></a>"
      ]
    },
    {
      "metadata": {
        "colab_type": "text",
        "id": "t09eeeR5prIJ"
      },
      "cell_type": "markdown",
      "source": [
        "##### Copyright 2018 The TensorFlow Authors."
      ]
    },
    {
      "metadata": {
        "cellView": "form",
        "colab_type": "code",
        "id": "GCCk8_dHpuNf",
        "colab": {}
      },
      "cell_type": "code",
      "source": [
        "#@title Licensed under the Apache License, Version 2.0 (the \"License\");\n",
        "# you may not use this file except in compliance with the License.\n",
        "# You may obtain a copy of the License at\n",
        "#\n",
        "# https://www.apache.org/licenses/LICENSE-2.0\n",
        "#\n",
        "# Unless required by applicable law or agreed to in writing, software\n",
        "# distributed under the License is distributed on an \"AS IS\" BASIS,\n",
        "# WITHOUT WARRANTIES OR CONDITIONS OF ANY KIND, either express or implied.\n",
        "# See the License for the specific language governing permissions and\n",
        "# limitations under the License."
      ],
      "execution_count": 0,
      "outputs": []
    },
    {
      "metadata": {
        "colab_type": "text",
        "id": "hcD2nPQvPOFM"
      },
      "cell_type": "markdown",
      "source": [
        "\n",
        "\n",
        "# Text generation using a RNN with eager execution\n",
        "\n",
        "\n",
        "<table class=\"tfo-notebook-buttons\" align=\"left\">\n",
        "<td>\n",
        "<a target=\"_blank\" href=\"https://www.tensorflow.org/tutorials/sequences/text_generation\"><img src=\"https://www.tensorflow.org/images/tf_logo_32px.png\" />View on TensorFlow.org</a>\n",
        "</td><td>\n",
        "<a target=\"_blank\"  href=\"https://colab.research.google.com/github/tensorflow/docs/blob/master/site/en/tutorials/sequences/text_generation.ipynb\">\n",
        "    <img src=\"https://www.tensorflow.org/images/colab_logo_32px.png\" />Run in Google Colab</a>  \n",
        "</td><td>\n",
        "<a target=\"_blank\"  href=\"https://github.com/tensorflow/docs/blob/master/site/en/tutorials/sequences/text_generation.ipynb\"><img width=32px src=\"https://www.tensorflow.org/images/GitHub-Mark-32px.png\" />View source on GitHub</a></td></table>"
      ]
    },
    {
      "metadata": {
        "colab_type": "text",
        "id": "srXC6pLGLwS6"
      },
      "cell_type": "markdown",
      "source": [
        "## Setup"
      ]
    },
    {
      "metadata": {
        "colab_type": "code",
        "id": "yG_n40gFzf9s",
        "colab": {}
      },
      "cell_type": "code",
      "source": [
        "from __future__ import absolute_import, division, print_function\n",
        "\n",
        "import tensorflow as tf\n",
        "\n",
        "import numpy as np\n",
        "import os\n",
        "import time\n",
        "\n",
        "tf.compat.v1.disable_eager_execution()"
      ],
      "execution_count": 0,
      "outputs": []
    },
    {
      "metadata": {
        "colab_type": "text",
        "id": "WGyKZj3bzf9p"
      },
      "cell_type": "markdown",
      "source": [
        "### Import TensorFlow and other libraries"
      ]
    },
    {
      "metadata": {
        "id": "qilKZW0WLM8D",
        "colab_type": "code",
        "outputId": "9d351b5b-2347-402d-8d55-fc146fcc8c6e",
        "colab": {
          "base_uri": "https://localhost:8080/",
          "height": 55
        }
      },
      "cell_type": "code",
      "source": [
        "# Load the Drive helper and mount\n",
        "from google.colab import drive\n",
        "\n",
        "# This will prompt for authorization.\n",
        "drive.mount('/content/drive')"
      ],
      "execution_count": 0,
      "outputs": [
        {
          "output_type": "stream",
          "text": [
            "Drive already mounted at /content/drive; to attempt to forcibly remount, call drive.mount(\"/content/drive\", force_remount=True).\n"
          ],
          "name": "stdout"
        }
      ]
    },
    {
      "metadata": {
        "id": "8ODIlf2jLZvj",
        "colab_type": "code",
        "outputId": "be130acf-992c-40b5-a1fc-5afc69619198",
        "colab": {
          "base_uri": "https://localhost:8080/",
          "height": 35
        }
      },
      "cell_type": "code",
      "source": [
        "!ls \"/content/drive/My Drive/dark_learning/chatting_records.txt\""
      ],
      "execution_count": 0,
      "outputs": [
        {
          "output_type": "stream",
          "text": [
            "'/content/drive/My Drive/dark_learning/chatting_records.txt'\n"
          ],
          "name": "stdout"
        }
      ]
    },
    {
      "metadata": {
        "colab_type": "text",
        "id": "EHDoRoc5PKWz"
      },
      "cell_type": "markdown",
      "source": [
        "### Download the Shakespeare dataset\n",
        "\n",
        "Change the following line to run this code on your own data."
      ]
    },
    {
      "metadata": {
        "colab_type": "code",
        "id": "pD_55cOxLkAb",
        "colab": {}
      },
      "cell_type": "code",
      "source": [
        "path_to_file = '/content/drive/My Drive/dark_learning/chatting_records2.txt'"
      ],
      "execution_count": 0,
      "outputs": []
    },
    {
      "metadata": {
        "id": "OxEiSTwnEXtB",
        "colab_type": "code",
        "colab": {}
      },
      "cell_type": "code",
      "source": [
        ""
      ],
      "execution_count": 0,
      "outputs": []
    },
    {
      "metadata": {
        "id": "sIKTyotxJnXH",
        "colab_type": "code",
        "colab": {}
      },
      "cell_type": "code",
      "source": [
        ""
      ],
      "execution_count": 0,
      "outputs": []
    },
    {
      "metadata": {
        "colab_type": "text",
        "id": "UHjdCjDuSvX_"
      },
      "cell_type": "markdown",
      "source": [
        "### Read the data\n",
        "\n",
        "First, look in the text."
      ]
    },
    {
      "metadata": {
        "colab_type": "code",
        "id": "aavnuByVymwK",
        "outputId": "4e21dff7-3e40-48a4-b574-04440929d13a",
        "colab": {
          "base_uri": "https://localhost:8080/",
          "height": 35
        }
      },
      "cell_type": "code",
      "source": [
        "# Read, then decode for py2 compat.\n",
        "text = open(path_to_file, 'rb').read().decode(encoding='utf-8').replace('\\ufeff','').replace('[图片]', '嫐').replace('[表情]', '嬲') \n",
        "# length of text is the number of characters in it\n",
        "print ('Length of text: {} characters'.format(len(text)))"
      ],
      "execution_count": 0,
      "outputs": [
        {
          "output_type": "stream",
          "text": [
            "Length of text: 2610569 characters\n"
          ],
          "name": "stdout"
        }
      ]
    },
    {
      "metadata": {
        "id": "PNxIz_TBKO0W",
        "colab_type": "code",
        "colab": {}
      },
      "cell_type": "code",
      "source": [
        "lines = text.split('\\r\\n')\n",
        "lines_len = len(lines)\n",
        "name_header = dict()\n",
        "rounds = []\n",
        "\n",
        "content = ''\n",
        "date = ''\n",
        "time = ''\n",
        "speaker = ''\n",
        "\n",
        "for i in range(0, lines_len - 4):\n",
        "    \n",
        "  spaceNum = lines[i].count(' ')\n",
        "  maoNum = lines[i].count(':')\n",
        "\n",
        "  if spaceNum == 2 and maoNum == 2:\n",
        "    \n",
        "    meta = dict()\n",
        "    #print(speaker + ': ' + content + '\\n')\n",
        "    \n",
        "    round_info = lines[i].split(' ')\n",
        "    date = round_info[0]\n",
        "    time = round_info[1]\n",
        "    speaker = round_info[2]\n",
        "    \n",
        "    meta['date'] = date\n",
        "    meta['time'] = time\n",
        "    meta['speaker'] = speaker\n",
        "    meta['content'] = content\n",
        "    \n",
        "    rounds.append(meta)\n",
        "    \n",
        "    content = ''\n",
        "  else:\n",
        "    meta['content'] += lines[i].replace('\\r\\n','')\n",
        "  \n",
        "  if speaker in name_header:\n",
        "    name_header[speaker] += 1\n",
        "  else:\n",
        "    name_header[speaker] = 1\n",
        "  #print(speaker + ': ' + content + ' | ' + date)"
      ],
      "execution_count": 0,
      "outputs": []
    },
    {
      "metadata": {
        "id": "8oxpG6Dl-qTG",
        "colab_type": "code",
        "colab": {}
      },
      "cell_type": "code",
      "source": [
        "for i in range(0, len(rounds)):\n",
        "  speaker = rounds[i]['speaker']\n",
        "  if speaker in {'蒋宏宇','蒋有毒','蒋有毒客服','有毒客服','略略略','🐷'}:\n",
        "    rounds[i]['speaker'] = '我'\n",
        "  else: \n",
        "    if speaker == '啦':\n",
        "      rounds[i]['speaker'] = '你'\n",
        "      "
      ],
      "execution_count": 0,
      "outputs": []
    },
    {
      "metadata": {
        "id": "5zXtCO1q4jrc",
        "colab_type": "code",
        "colab": {}
      },
      "cell_type": "code",
      "source": [
        "contex_speaker = 'NULL'\n",
        "summerized_rounds = []\n",
        "\n",
        "\n",
        "for i in range(0, len(rounds)):\n",
        "  speaker = rounds[i]['speaker']\n",
        "  if speaker == contex_speaker:\n",
        "    context_meta['content'] += ' ' + rounds[i]['content']\n",
        "  else:\n",
        "    if contex_speaker != 'NULL':\n",
        "      summerized_rounds.append(context_meta)\n",
        "      \n",
        "    contex_speaker = speaker\n",
        "    context_meta = dict()\n",
        "    context_meta['date'] = rounds[i]['date']\n",
        "    context_meta['time'] = rounds[i]['time']\n",
        "    context_meta['speaker'] = rounds[i]['speaker']\n",
        "    context_meta['content'] = rounds[i]['content']"
      ],
      "execution_count": 0,
      "outputs": []
    },
    {
      "metadata": {
        "id": "2yxsrrMyECd8",
        "colab_type": "code",
        "outputId": "3efedeac-2c30-482d-f74b-ba9adaba2b22",
        "colab": {
          "base_uri": "https://localhost:8080/",
          "height": 35
        }
      },
      "cell_type": "code",
      "source": [
        "print(len(summerized_rounds))"
      ],
      "execution_count": 0,
      "outputs": [
        {
          "output_type": "stream",
          "text": [
            "39927\n"
          ],
          "name": "stdout"
        }
      ]
    },
    {
      "metadata": {
        "id": "KvElLdwNAEhd",
        "colab_type": "code",
        "outputId": "2405b84a-b0ca-4b95-ae0d-ab77b2a24fb8",
        "colab": {
          "base_uri": "https://localhost:8080/",
          "height": 35
        }
      },
      "cell_type": "code",
      "source": [
        "!pip install colored\n",
        "import colored\n",
        "from colored import stylize\n"
      ],
      "execution_count": 0,
      "outputs": [
        {
          "output_type": "stream",
          "text": [
            "Requirement already satisfied: colored in /usr/local/lib/python3.6/dist-packages (1.3.93)\n"
          ],
          "name": "stdout"
        }
      ]
    },
    {
      "metadata": {
        "id": "SW3RJuPEDY6w",
        "colab_type": "code",
        "outputId": "686c6f0b-f316-4d14-d690-41c1e326bf1c",
        "colab": {
          "base_uri": "https://localhost:8080/",
          "height": 197
        }
      },
      "cell_type": "code",
      "source": [
        "\n",
        "Lan = colored.fg(\"white\") + colored.bg(\"blue\")\n",
        "\n",
        "Yu = colored.fg(\"white\") + colored.bg(\"red\")\n",
        "\n",
        "for i in range(19950,19960):\n",
        "  if i % 2 == 0:\n",
        "    print(stylize(summerized_rounds[i], Yu))\n",
        "  else:\n",
        "    print(stylize(summerized_rounds[i], Lan))"
      ],
      "execution_count": 0,
      "outputs": [
        {
          "output_type": "stream",
          "text": [
            "\u001b[38;5;15m\u001b[48;5;1m{'date': '2019-01-04', 'time': '0:57:39', 'speaker': '你', 'content': '我给你鼓掌 然后 给你huo'}\u001b[0m\n",
            "\u001b[38;5;15m\u001b[48;5;4m{'date': '2019-01-04', 'time': '0:57:56', 'speaker': '我', 'content': '妈卖批 你个瓜娃子 你要遭'}\u001b[0m\n",
            "\u001b[38;5;15m\u001b[48;5;1m{'date': '2019-01-04', 'time': '0:58:09', 'speaker': '你', 'content': '嫐'}\u001b[0m\n",
            "\u001b[38;5;15m\u001b[48;5;4m{'date': '2019-01-04', 'time': '0:58:10', 'speaker': '我', 'content': '瓜批云'}\u001b[0m\n",
            "\u001b[38;5;15m\u001b[48;5;1m{'date': '2019-01-04', 'time': '0:58:22', 'speaker': '你', 'content': '你说的拿杯子的嘛 我以为你想huo'}\u001b[0m\n",
            "\u001b[38;5;15m\u001b[48;5;4m{'date': '2019-01-04', 'time': '0:58:36', 'speaker': '我', 'content': '给你喝的'}\u001b[0m\n",
            "\u001b[38;5;15m\u001b[48;5;1m{'date': '2019-01-04', 'time': '0:58:42', 'speaker': '你', 'content': '既然你不想喝'}\u001b[0m\n",
            "\u001b[38;5;15m\u001b[48;5;4m{'date': '2019-01-04', 'time': '0:58:45', 'speaker': '我', 'content': '张兰云一饮而尽'}\u001b[0m\n",
            "\u001b[38;5;15m\u001b[48;5;1m{'date': '2019-01-04', 'time': '0:58:48', 'speaker': '你', 'content': '那你拿去下面'}\u001b[0m\n",
            "\u001b[38;5;15m\u001b[48;5;4m{'date': '2019-01-04', 'time': '0:58:55', 'speaker': '我', 'content': '变态！ 死变态！'}\u001b[0m\n"
          ],
          "name": "stdout"
        }
      ]
    },
    {
      "metadata": {
        "colab_type": "code",
        "id": "IlCgQBRVymwR",
        "outputId": "b19546df-1cba-4286-eba8-0e6cce8a5dfe",
        "colab": {
          "base_uri": "https://localhost:8080/",
          "height": 35
        }
      },
      "cell_type": "code",
      "source": [
        "# The unique characters in the file\n",
        "vocab = sorted(set(text))\n",
        "print ('{} unique characters'.format(len(vocab)))"
      ],
      "execution_count": 0,
      "outputs": [
        {
          "output_type": "stream",
          "text": [
            "3339 unique characters\n"
          ],
          "name": "stdout"
        }
      ]
    },
    {
      "metadata": {
        "colab_type": "text",
        "id": "rNnrKn_lL-IJ"
      },
      "cell_type": "markdown",
      "source": [
        "## Process the text"
      ]
    },
    {
      "metadata": {
        "colab_type": "text",
        "id": "LFjSVAlWzf-N"
      },
      "cell_type": "markdown",
      "source": [
        "### Vectorize the text\n",
        "\n",
        "Before training, we need to map strings to a numerical representation. Create two lookup tables: one mapping characters to numbers, and another for numbers to characters."
      ]
    },
    {
      "metadata": {
        "colab_type": "code",
        "id": "IalZLbvOzf-F",
        "outputId": "7b2b428d-cfb4-4ad2-be1f-3331aab0c21b",
        "colab": {
          "base_uri": "https://localhost:8080/",
          "height": 35
        }
      },
      "cell_type": "code",
      "source": [
        "# Creating a mapping from unique characters to indices\n",
        "#char2idx = {u:i for i, u in enumerate(vocab)}\n",
        "\n",
        "char2idx = dict()\n",
        "idx2char = dict()\n",
        "\n",
        "idx2char[1] = 'EOF'\n",
        "\n",
        "for i,u in enumerate(vocab):\n",
        "  char2idx[u] = i + 2\n",
        "  idx2char[i + 2] = u\n",
        "\n",
        "for i in range(len(summerized_rounds)):\n",
        "  \n",
        "  if len(summerized_rounds[i]['content']) > 50:\n",
        "    summerized_rounds[i]['content'] = ''\n",
        "  temp_str = ''\n",
        "  for j,u in enumerate(summerized_rounds[i]['content']):\n",
        "    temp_str += ' ' + str(char2idx[u])\n",
        "  summerized_rounds[i]['content_intCode'] = temp_str\n",
        "  #summerized_rounds[i]['content'] = '' #clear cache\n",
        "  \n",
        "print(len(summerized_rounds))"
      ],
      "execution_count": 0,
      "outputs": [
        {
          "output_type": "stream",
          "text": [
            "39927\n"
          ],
          "name": "stdout"
        }
      ]
    },
    {
      "metadata": {
        "id": "de4p5OltlynO",
        "colab_type": "code",
        "outputId": "006dd169-b6fb-439f-c003-5bc752b18437",
        "colab": {
          "base_uri": "https://localhost:8080/",
          "height": 217
        }
      },
      "cell_type": "code",
      "source": [
        "for i in range(10):\n",
        "  print(summerized_rounds[i])"
      ],
      "execution_count": 0,
      "outputs": [
        {
          "output_type": "stream",
          "text": [
            "{'date': '2018-09-08', 'time': '8:20:40', 'speaker': '你', 'content': '师兄 你什么方向啊?', 'content_intCode': ' 1058 344 5 281 219 173 1502 575 675 36'}\n",
            "{'date': '2018-09-08', 'time': '8:21:02', 'speaker': '我', 'content': '可视化方向 新生见面会你好像没来吧', 'content_intCode': ' 556 2736 478 1502 575 5 1501 2031 2732 3179 255 281 859 337 1761 1593 584'}\n",
            "{'date': '2018-09-08', 'time': '8:50:28', 'speaker': '你', 'content': '科学可视化跟信息可视化都是吗? 嫐', 'content_intCode': ' 2214 930 556 2736 478 2894 308 1201 556 2736 478 3031 1528 578 36 5 912'}\n",
            "{'date': '2018-09-08', 'time': '11:01:50', 'speaker': '我', 'content': '都做过点 主要还是做可视分析 嫐', 'content_intCode': ' 3031 325 2956 1908 5 168 2729 2962 1528 325 556 2736 414 1602 5 912'}\n",
            "{'date': '2018-09-08', 'time': '12:00:17', 'speaker': '你', 'content': '师兄我以后可能是做移动通信方面的，这边实验室的师兄说我学的跟你比较像，师兄以后多指教 嫐', 'content_intCode': ' 1058 344 1272 236 573 556 2477 1528 325 2223 460 2987 308 1502 3179 2091 3325 2963 2951 949 3254 954 2091 1058 344 2797 1272 930 2091 2894 281 1726 2933 337 3325 1058 344 236 573 829 1371 1477 5 912'}\n",
            "{'date': '2018-09-08', 'time': '12:00:48', 'speaker': '我', 'content': '你做联通数据啊 可以的呢 前期我们已经发过几篇文章了', 'content_intCode': ' 281 325 2438 2987 1484 1399 675 5 556 236 2091 608 5 443 1569 1272 238 1049 2356 538 2956 400 2290 1488 2255 194'}\n",
            "{'date': '2018-09-08', 'time': '12:01:21', 'speaker': '你', 'content': '关键我现在就是个菜鸟 我今天还看了你的论文', 'content_intCode': ' 366 3094 1272 1998 764 998 1528 160 2601 3283 5 1272 224 833 2962 2117 194 281 2091 2768 1488'}\n",
            "{'date': '2018-09-08', 'time': '12:01:39', 'speaker': '我', 'content': '可以上实验室主页看看，又不能启发一下 找找新的点', 'content_intCode': ' 556 236 143 949 3254 954 168 3190 2117 2117 3325 532 145 2477 589 538 137 144 5 1308 1308 1501 2091 1908'}\n",
            "{'date': '2018-09-08', 'time': '12:01:48', 'speaker': '你', 'content': '好牛逼的样子', 'content_intCode': ' 859 1955 2997 2091 1632 919'}\n",
            "{'date': '2018-09-08', 'time': '12:01:53', 'speaker': '我', 'content': '嫐', 'content_intCode': ' 912'}\n"
          ],
          "name": "stdout"
        }
      ]
    },
    {
      "metadata": {
        "colab_type": "text",
        "id": "bbmsf23Bymwe"
      },
      "cell_type": "markdown",
      "source": [
        "### The prediction task"
      ]
    },
    {
      "metadata": {
        "colab_type": "code",
        "id": "0UHJDA39zf-O",
        "outputId": "7bda191d-a07e-4cf7-e807-4daa1435435e",
        "colab": {
          "base_uri": "https://localhost:8080/",
          "height": 35
        }
      },
      "cell_type": "code",
      "source": [
        "PAD = 0\n",
        "EOS = 1\n",
        "\n",
        "training_data = []\n",
        "\n",
        "for i in range(0, len(summerized_rounds)-1, 2):\n",
        "  meta = dict()\n",
        "  inp = summerized_rounds[i]['content']\n",
        "  out = summerized_rounds[i + 1]['content']\n",
        "  code_input = summerized_rounds[i]['content_intCode'].split(' ')\n",
        "  code_output = summerized_rounds[i+1]['content_intCode'].split(' ')\n",
        "  meta['input'] = code_input[1:-1]\n",
        "  meta['output'] = code_output[1:-1]\n",
        "  \n",
        "  inp_emojis_count = inp.count('嬲')\n",
        "  out_emojis_count = out.count('嬲')\n",
        "  \n",
        "  inp_images_count = inp.count('嫐')\n",
        "  out_images_count = out.count('嫐')\n",
        "  \n",
        "  inp_modal_count = inp.count('哈')\n",
        "  out_modal_count = out.count('哈')\n",
        "  \n",
        "  inp_space_count = inp.count(' ')\n",
        "  out_space_count = out.count(' ')\n",
        "  \n",
        "  inp_useless_count = inp_emojis_count + inp_images_count + inp_space_count + inp_modal_count\n",
        "  out_useless_count = out_emojis_count + out_images_count + out_space_count + out_modal_count\n",
        "  \n",
        "  if inp_useless_count < len(inp) and out_useless_count < len(out) and len(inp) > 0 and len(out) > 0:\n",
        "    training_data.append(meta)\n",
        "  #summerized_rounds[i]['content'] = ''\n",
        "  #summerized_rounds[i+1]['content'] = ''\n",
        "  \n",
        "for i in range(len(training_data)):\n",
        "  for j in range(len(training_data[i]['input'])):\n",
        "    training_data[i]['input'][j] = int(training_data[i]['input'][j])\n",
        "  for j in range(len(training_data[i]['output'])):\n",
        "    training_data[i]['output'][j] = int(training_data[i]['output'][j])\n",
        "    \n",
        "    \n",
        "print(len(training_data))"
      ],
      "execution_count": 0,
      "outputs": [
        {
          "output_type": "stream",
          "text": [
            "14285\n"
          ],
          "name": "stdout"
        }
      ]
    },
    {
      "metadata": {
        "id": "QdcS9gBVqHNC",
        "colab_type": "code",
        "colab": {}
      },
      "cell_type": "code",
      "source": [
        "\n",
        "tf.reset_default_graph()\n",
        "sess = tf.InteractiveSession()\n",
        "\n",
        "vocab_size = len(vocab)\n",
        "input_embedding_size = 128\n",
        "\n",
        "encoder_hidden_units = 20\n",
        "decoder_hidden_units = encoder_hidden_units * 2\n",
        "\n",
        "encoder_inputs = tf.placeholder(shape=(None, None), dtype=tf.int32, name='encoder_inputs')\n",
        "encoder_inputs_length = tf.placeholder(shape=(None,), dtype=tf.int32, name='encoder_inputs_length')\n",
        "decoder_inputs_length = tf.placeholder(shape=(None,), dtype=tf.int32, name='decoder_inputs_length')\n",
        "decoder_targets = tf.placeholder(shape=(None, None), dtype=tf.int32, name='decoder_targets')"
      ],
      "execution_count": 0,
      "outputs": []
    },
    {
      "metadata": {
        "colab_type": "text",
        "id": "-ZSYAcQV8OGP"
      },
      "cell_type": "markdown",
      "source": [
        "The `batch` method lets us easily convert these individual characters to sequences of the desired size. "
      ]
    },
    {
      "metadata": {
        "colab_type": "code",
        "id": "l4hkDU3i7ozi",
        "outputId": "0fb86de8-d4f9-4ccf-994c-00ec73a16e59",
        "colab": {
          "base_uri": "https://localhost:8080/",
          "height": 91
        }
      },
      "cell_type": "code",
      "source": [
        "embeddings = tf.Variable(tf.random_uniform([vocab_size, input_embedding_size], -1.0, 1.0), dtype=tf.float32)\n",
        "\n",
        "encoder_inputs_embedded = tf.nn.embedding_lookup(embeddings, encoder_inputs)\n"
      ],
      "execution_count": 0,
      "outputs": [
        {
          "output_type": "stream",
          "text": [
            "WARNING:tensorflow:From /usr/local/lib/python3.6/dist-packages/tensorflow/python/framework/op_def_library.py:263: colocate_with (from tensorflow.python.framework.ops) is deprecated and will be removed in a future version.\n",
            "Instructions for updating:\n",
            "Colocations handled automatically by placer.\n"
          ],
          "name": "stdout"
        }
      ]
    },
    {
      "metadata": {
        "colab_type": "text",
        "id": "UbLcIPBj_mWZ"
      },
      "cell_type": "markdown",
      "source": [
        "For each sequence, duplicate and shift it to form the input and target text by using the `map` method to apply a simple function to each batch:"
      ]
    },
    {
      "metadata": {
        "colab_type": "code",
        "id": "9NGu-FkO_kYU",
        "outputId": "79e01e9f-74c3-4ab1-f898-c7634950dfa6",
        "colab": {
          "base_uri": "https://localhost:8080/",
          "height": 253
        }
      },
      "cell_type": "code",
      "source": [
        "from tensorflow.contrib.rnn import LSTMCell, LSTMStateTuple\n",
        "\n",
        "encoder_cell = LSTMCell(encoder_hidden_units)\n",
        "\n",
        "((encoder_fw_outputs,\n",
        "  encoder_bw_outputs),\n",
        " (encoder_fw_final_state,\n",
        "  encoder_bw_final_state)) = (\n",
        "    tf.nn.bidirectional_dynamic_rnn(cell_fw=encoder_cell,\n",
        "                                    cell_bw=encoder_cell,\n",
        "                                    inputs=encoder_inputs_embedded,\n",
        "                                    sequence_length=encoder_inputs_length,\n",
        "                                    dtype=tf.float32, time_major=True)\n",
        "    )\n"
      ],
      "execution_count": 0,
      "outputs": [
        {
          "output_type": "stream",
          "text": [
            "WARNING:tensorflow:From <ipython-input-19-47050786f5d5>:3: LSTMCell.__init__ (from tensorflow.python.ops.rnn_cell_impl) is deprecated and will be removed in a future version.\n",
            "Instructions for updating:\n",
            "This class is equivalent as tf.keras.layers.LSTMCell, and will be replaced by that in Tensorflow 2.0.\n",
            "WARNING:tensorflow:From <ipython-input-19-47050786f5d5>:13: bidirectional_dynamic_rnn (from tensorflow.python.ops.rnn) is deprecated and will be removed in a future version.\n",
            "Instructions for updating:\n",
            "Please use `keras.layers.Bidirectional(keras.layers.RNN(cell))`, which is equivalent to this API\n",
            "WARNING:tensorflow:From /usr/local/lib/python3.6/dist-packages/tensorflow/python/ops/rnn.py:443: dynamic_rnn (from tensorflow.python.ops.rnn) is deprecated and will be removed in a future version.\n",
            "Instructions for updating:\n",
            "Please use `keras.layers.RNN(cell)`, which is equivalent to this API\n",
            "WARNING:tensorflow:From /usr/local/lib/python3.6/dist-packages/tensorflow/python/ops/rnn.py:626: to_int32 (from tensorflow.python.ops.math_ops) is deprecated and will be removed in a future version.\n",
            "Instructions for updating:\n",
            "Use tf.cast instead.\n"
          ],
          "name": "stdout"
        }
      ]
    },
    {
      "metadata": {
        "id": "Xz2PRf4tJ3th",
        "colab_type": "code",
        "colab": {}
      },
      "cell_type": "code",
      "source": [
        "\n",
        "encoder_outputs = tf.concat((encoder_fw_outputs, encoder_bw_outputs), 2)\n",
        "\n",
        "encoder_final_state_c = tf.concat(\n",
        "    (encoder_fw_final_state.c, encoder_bw_final_state.c), 1)\n",
        "\n",
        "encoder_final_state_h = tf.concat(\n",
        "    (encoder_fw_final_state.h, encoder_bw_final_state.h), 1)\n",
        "\n",
        "encoder_final_state = LSTMStateTuple(\n",
        "    c=encoder_final_state_c,\n",
        "    h=encoder_final_state_h\n",
        ")"
      ],
      "execution_count": 0,
      "outputs": []
    },
    {
      "metadata": {
        "colab_type": "text",
        "id": "hiCopyGZymwi"
      },
      "cell_type": "markdown",
      "source": [
        "Print the first examples input and target values:"
      ]
    },
    {
      "metadata": {
        "colab_type": "code",
        "id": "GNbw-iR0ymwj",
        "colab": {}
      },
      "cell_type": "code",
      "source": [
        "decoder_cell = LSTMCell(decoder_hidden_units)\n",
        "\n",
        "encoder_max_time, batch_size = tf.unstack(tf.shape(encoder_inputs))\n",
        "\n",
        "decoder_lengths = decoder_inputs_length #必须加上PAD和EOS Tensor才会匹配\n",
        "#decoder_lengths = encoder_inputs_length\n",
        "\n",
        "W = tf.Variable(tf.random_uniform([decoder_hidden_units, vocab_size], -1, 1), dtype=tf.float32)\n",
        "b = tf.Variable(tf.zeros([vocab_size]), dtype=tf.float32)\n"
      ],
      "execution_count": 0,
      "outputs": []
    },
    {
      "metadata": {
        "id": "2YPKtfOdKFLP",
        "colab_type": "code",
        "colab": {}
      },
      "cell_type": "code",
      "source": [
        "assert EOS == 1 and PAD == 0\n",
        "\n",
        "eos_time_slice = tf.ones([batch_size], dtype=tf.int32, name='EOS')\n",
        "pad_time_slice = tf.zeros([batch_size], dtype=tf.int32, name='PAD')\n",
        "\n",
        "eos_step_embedded = tf.nn.embedding_lookup(embeddings, eos_time_slice)\n",
        "pad_step_embedded = tf.nn.embedding_lookup(embeddings, pad_time_slice)"
      ],
      "execution_count": 0,
      "outputs": []
    },
    {
      "metadata": {
        "id": "UkA2vEHlKH-e",
        "colab_type": "code",
        "colab": {}
      },
      "cell_type": "code",
      "source": [
        "def loop_fn_initial():\n",
        "    initial_elements_finished = (0 >= decoder_lengths)  # all False at the initial step\n",
        "    initial_input = eos_step_embedded\n",
        "    initial_cell_state = encoder_final_state\n",
        "    initial_cell_output = None\n",
        "    initial_loop_state = None  # we don't need to pass any additional information\n",
        "    return (initial_elements_finished,\n",
        "            initial_input,\n",
        "            initial_cell_state,\n",
        "            initial_cell_output,\n",
        "            initial_loop_state)\n",
        "  \n",
        "def loop_fn_transition(time, previous_output, previous_state, previous_loop_state):\n",
        "\n",
        "    def get_next_input():\n",
        "        output_logits = tf.add(tf.matmul(previous_output, W), b)\n",
        "        prediction = tf.argmax(output_logits, axis=1)\n",
        "        next_input = tf.nn.embedding_lookup(embeddings, prediction)\n",
        "        return next_input\n",
        "    \n",
        "    elements_finished = (time >= decoder_lengths) # this operation produces boolean tensor of [batch_size]\n",
        "                                                  # defining if corresponding sequence has ended\n",
        "\n",
        "    finished = tf.reduce_all(elements_finished) # -> boolean scalar\n",
        "    input = tf.cond(finished, lambda: pad_step_embedded, get_next_input)\n",
        "    state = previous_state\n",
        "    output = previous_output\n",
        "    loop_state = None\n",
        "\n",
        "    return (elements_finished, \n",
        "            input,\n",
        "            state,\n",
        "            output,\n",
        "            loop_state)\n",
        "  "
      ],
      "execution_count": 0,
      "outputs": []
    },
    {
      "metadata": {
        "id": "JeSQDH9NKjGP",
        "colab_type": "code",
        "colab": {}
      },
      "cell_type": "code",
      "source": [
        "def loop_fn(time, previous_output, previous_state, previous_loop_state):\n",
        "    if previous_state is None:    # time == 0\n",
        "        assert previous_output is None and previous_state is None\n",
        "        return loop_fn_initial()\n",
        "    else:\n",
        "        return loop_fn_transition(time, previous_output, previous_state, previous_loop_state)\n",
        "\n",
        "decoder_outputs_ta, decoder_final_state, _ = tf.nn.raw_rnn(decoder_cell, loop_fn)\n",
        "decoder_outputs = decoder_outputs_ta.stack()\n",
        "\n",
        "\n",
        "decoder_max_steps, decoder_batch_size, decoder_dim = tf.unstack(tf.shape(decoder_outputs))\n",
        "decoder_outputs_flat = tf.reshape(decoder_outputs, (-1, decoder_dim))\n",
        "decoder_logits_flat = tf.add(tf.matmul(decoder_outputs_flat, W), b)\n",
        "decoder_logits = tf.reshape(decoder_logits_flat, (decoder_max_steps, decoder_batch_size, vocab_size))\n",
        "\n",
        "decoder_prediction = tf.argmax(decoder_logits, 2)"
      ],
      "execution_count": 0,
      "outputs": []
    },
    {
      "metadata": {
        "colab_type": "text",
        "id": "_33OHL3b84i0"
      },
      "cell_type": "markdown",
      "source": [
        "Each index of these vectors are processed as one time step. For the input at time step 0, the model receives the index for \"F\" and trys to predict the index for \"i\" as the next character. At the next timestep, it does the same thing but the `RNN` considers the previous step context in addition to the current input character."
      ]
    },
    {
      "metadata": {
        "colab_type": "code",
        "id": "0eBu9WZG84i0",
        "outputId": "369c1fc8-b0ec-4e17-ccc2-7bceb9635d4e",
        "colab": {
          "base_uri": "https://localhost:8080/",
          "height": 181
        }
      },
      "cell_type": "code",
      "source": [
        "stepwise_cross_entropy = tf.nn.softmax_cross_entropy_with_logits(\n",
        "    labels=tf.one_hot(decoder_targets, depth=vocab_size, dtype=tf.float32),\n",
        "    logits=decoder_logits,\n",
        ")\n",
        "\n",
        "loss = tf.reduce_mean(stepwise_cross_entropy)\n",
        "train_op = tf.train.AdamOptimizer().minimize(loss)\n",
        "\n",
        "sess.run(tf.global_variables_initializer())\n",
        "\n"
      ],
      "execution_count": 0,
      "outputs": [
        {
          "output_type": "stream",
          "text": [
            "WARNING:tensorflow:From <ipython-input-25-2162ef0beb6a>:3: softmax_cross_entropy_with_logits (from tensorflow.python.ops.nn_ops) is deprecated and will be removed in a future version.\n",
            "Instructions for updating:\n",
            "\n",
            "Future major versions of TensorFlow will allow gradients to flow\n",
            "into the labels input on backprop by default.\n",
            "\n",
            "See `tf.nn.softmax_cross_entropy_with_logits_v2`.\n",
            "\n"
          ],
          "name": "stdout"
        }
      ]
    },
    {
      "metadata": {
        "colab_type": "text",
        "id": "MJdfPmdqzf-R"
      },
      "cell_type": "markdown",
      "source": [
        "### Create training batches\n",
        "\n",
        "We used `tf.data` to split the text into manageable sequences. But before feeding this data into the model, we need to shuffle the data and pack it into batches."
      ]
    },
    {
      "metadata": {
        "id": "tJU1dMhQO0W-",
        "colab_type": "code",
        "colab": {}
      },
      "cell_type": "code",
      "source": [
        "def batchFun(tranining_data, max_sequence_length=None):\n",
        "    \n",
        "    inputs_lengths = [(len(seq['input']) + 1) for seq in tranining_data]\n",
        "    outputs_lengths = [(len(seq['output']) + 1) for seq in tranining_data]\n",
        "    \n",
        "    batch_size = len(tranining_data)\n",
        "    \n",
        "    max_lens = 0\n",
        "    \n",
        "    #if max_sequence_length is None:\n",
        "    max_inputs_length = max(inputs_lengths)\n",
        "    max_outputs_length = max(outputs_lengths)\n",
        "    \n",
        "    #print(max_inputs_length, max_outputs_length)\n",
        "        \n",
        "    #print(batch_size, max_inputs_length, max_outputs_length)\n",
        "  \n",
        "    if max_inputs_length > max_outputs_length:\n",
        "      max_lens = max_inputs_length\n",
        "    else:\n",
        "      max_lens = max_outputs_length\n",
        "    \n",
        "    inputs_batch_major = np.zeros(shape=[batch_size, max_inputs_length], dtype=np.int32) # == PAD\n",
        "    \n",
        "    outputs_batch_major = np.zeros(shape=[batch_size, max_outputs_length], dtype=np.int32) # == PAD\n",
        "    \n",
        "    \n",
        "    #给回答增加PAD和EOS\n",
        "    \n",
        "    for i, seq in enumerate(tranining_data):\n",
        "        for j, element in enumerate(seq['input']):\n",
        "            inputs_batch_major[i, j] = element\n",
        "        inputs_batch_major[i, max_inputs_length - 1]  =  EOS\n",
        "            \n",
        "    for i, seq in enumerate(tranining_data):\n",
        "        for j, element in enumerate(seq['output']):\n",
        "            outputs_batch_major[i, j] = element\n",
        "        outputs_batch_major[i, max_outputs_length - 1]  =  EOS\n",
        "     \n",
        "    # [batch_size, max_time] -> [max_time, batch_size]\n",
        "    inputs_time_major = inputs_batch_major.swapaxes(0, 1)\n",
        "    outputs_time_major = outputs_batch_major.swapaxes(0, 1)\n",
        "\n",
        "    return inputs_time_major, outputs_time_major, inputs_lengths, outputs_lengths\n"
      ],
      "execution_count": 0,
      "outputs": []
    },
    {
      "metadata": {
        "colab_type": "text",
        "id": "r6oUuElIMgVx"
      },
      "cell_type": "markdown",
      "source": [
        "## Build The Model"
      ]
    },
    {
      "metadata": {
        "colab_type": "text",
        "id": "m8gPwEjRzf-Z"
      },
      "cell_type": "markdown",
      "source": [
        "Use `tf.keras.Sequential` to define the model. For this simple example three layers are used to define our model:\n",
        "\n",
        "* `tf.keras.layers.Embedding`: The input layer. A trainable lookup table that will map the numbers of each character to a vector with `embedding_dim` dimensions;\n",
        "* `tf.keras.layers.GRU`: A type of RNN with size `units=rnn_units` (You can also use a LSTM layer here.)\n",
        "* `tf.keras.layers.Dense`: The output layer, with `vocab_size` outputs."
      ]
    },
    {
      "metadata": {
        "colab_type": "code",
        "id": "zHT8cLh7EAsg",
        "outputId": "9c6714ae-c784-4aed-e51b-443e0ae1bca7",
        "colab": {
          "base_uri": "https://localhost:8080/",
          "height": 35
        }
      },
      "cell_type": "code",
      "source": [
        "import random\n",
        "\n",
        "print(len(training_data))\n",
        "\n",
        "def next_feed():\n",
        "    global startNum\n",
        "    global endNum\n",
        "  \n",
        "    _batch = training_data[10000: 11000]\n",
        "    encoder_inputs_, decoder_targets_, encoder_input_lengths_, encoder_output_lengths_ = batchFun(_batch)\n",
        "    \n",
        "    #print(len(encoder_inputs_[0]), len(decoder_targets_[0]))\n",
        "    \n",
        "    if endNum < len(training_data):\n",
        "      startNum += 1000\n",
        "      endNum += 1000\n",
        "    else:\n",
        "      startNum = 0\n",
        "      endNum = 1000\n",
        "\n",
        "    return {\n",
        "        encoder_inputs: encoder_inputs_,\n",
        "        encoder_inputs_length: encoder_input_lengths_,\n",
        "        decoder_targets: decoder_targets_,\n",
        "        decoder_inputs_length: encoder_output_lengths_,\n",
        "    }"
      ],
      "execution_count": 0,
      "outputs": [
        {
          "output_type": "stream",
          "text": [
            "14285\n"
          ],
          "name": "stdout"
        }
      ]
    },
    {
      "metadata": {
        "id": "357DDTkwCXeD",
        "colab_type": "code",
        "colab": {}
      },
      "cell_type": "code",
      "source": [
        "\n"
      ],
      "execution_count": 0,
      "outputs": []
    },
    {
      "metadata": {
        "colab_type": "text",
        "id": "NNVB-jmMEOzP"
      },
      "cell_type": "markdown",
      "source": [
        "Next define a function to build the model.\n",
        "\n",
        "Use `CuDNNGRU` if running on GPU.  "
      ]
    },
    {
      "metadata": {
        "colab_type": "code",
        "id": "MtCrdfzEI2N0",
        "outputId": "ff11764e-5291-40fc-d144-118dab2ba951",
        "colab": {
          "base_uri": "https://localhost:8080/",
          "height": 2663
        }
      },
      "cell_type": "code",
      "source": [
        "loss_track = []\n",
        "\n",
        "max_batches = 3001\n",
        "batches_in_epoch = 500\n",
        "\n",
        "startNum = 0\n",
        "endNum = 1000\n",
        "\n",
        "try:\n",
        "    for batch in range(max_batches):\n",
        "        fd = next_feed()\n",
        "        _, l = sess.run([train_op, loss], fd)\n",
        "        loss_track.append(l)\n",
        "\n",
        "        if batch % batches_in_epoch == 0:\n",
        "            print('batch {} ---------------------------------------'.format(batch))\n",
        "            print('  minibatch loss: {}'.format(sess.run(loss, fd)))\n",
        "            predict_ = sess.run(decoder_prediction, fd)\n",
        "            for i, (inp, pred) in enumerate(zip(fd[encoder_inputs].T, predict_.T)):\n",
        "              print('sample {}:'.format(i + 1))\n",
        "              myStr = ''\n",
        "              for j in range(len(inp)):\n",
        "                if inp[j] != 0 and inp[j] != 1:\n",
        "                  myStr += idx2char[inp[j]]\n",
        "              print('Q >:{}|'.format(myStr))\n",
        "              myStr = ''\n",
        "              for j in range(len(pred)):\n",
        "                if pred[j] != 0 and pred[j] != 1:\n",
        "                  myStr += idx2char[pred[j]]\n",
        "              print('A >:{}|'.format(myStr))\n",
        "              if i >= 5:\n",
        "                  break\n",
        "            print('-----------------------------------------------------')\n",
        "            \n",
        "except KeyboardInterrupt:\n",
        "    print('training interrupted')"
      ],
      "execution_count": 0,
      "outputs": [
        {
          "output_type": "stream",
          "text": [
            "batch 0 ---------------------------------------\n",
            "  minibatch loss: 8.151241302490234\n",
            "sample 1:\n",
            "Q >:所以事情就说得通|\n",
            "A >:播徊辗耶饲處處授授|\n",
            "sample 2:\n",
            "Q >:我也觉得你挺优秀的 不过你也不想讲究 将就 毕竟遇到一个很合适的人概率比较|\n",
            "A >:嗦栋b蜷毅蜷隆虚筷筷名饮|\n",
            "sample 3:\n",
            "Q >:我觉得还是我们两个在一起比较|\n",
            "A >:凰凰撵咸挺与宴杀啦胁府朋焖怕機夕罩雀雀淹|\n",
            "sample 4:\n",
            "Q >:我不会为了身体的愉悦 去舍弃精神的愉悦|\n",
            "A >:凰凰撵咸挺与宴贯促肝腌伪践蜂雲嵌嵌磨杰小深耳寒倦|\n",
            "sample 5:\n",
            "Q >:确实不排除这种可能性 那就需要责任心去干涉|\n",
            "A >:谐戒驱销遁笑端箕百塑较透弯蚀攀咏叛喱活|\n",
            "sample 6:\n",
            "Q >:是的|\n",
            "触哦栋楼姿惧姿打￢昊書它酌|\n",
            "-----------------------------------------------------\n",
            "batch 500 ---------------------------------------\n",
            "  minibatch loss: 6.323128700256348\n",
            "sample 1:\n",
            "Q >:所以事情就说得通|\n",
            "A >:我我   |\n",
            "sample 2:\n",
            "Q >:我也觉得你挺优秀的 不过你也不想讲究 将就 毕竟遇到一个很合适的人概率比较|\n",
            "A >:对对给 |\n",
            "sample 3:\n",
            "Q >:我觉得还是我们两个在一起比较|\n",
            "A >:你你你   哈 哈  哈   哈  |\n",
            "sample 4:\n",
            "Q >:我不会为了身体的愉悦 去舍弃精神的愉悦|\n",
            "A >:哈哈哈               |\n",
            "sample 5:\n",
            "Q >:确实不排除这种可能性 那就需要责任心去干涉|\n",
            "A >:这要不说的的 不不不不不的的 不|\n",
            "sample 6:\n",
            "Q >:是的|\n",
            "A >:我哈  哈  |\n",
            "-----------------------------------------------------\n",
            "batch 1000 ---------------------------------------\n",
            "  minibatch loss: 5.362196922302246\n",
            "sample 1:\n",
            "Q >:所以事情就说得通|\n",
            "A >:我我   妈|\n",
            "sample 2:\n",
            "Q >:我也觉得你挺优秀的 不过你也不想讲究 将就 毕竟遇到一个很合适的人概率比较|\n",
            "A >:对啊  我 我 个|\n",
            "sample 3:\n",
            "Q >:我觉得还是我们两个在一起比较|\n",
            "A >:你想你   哈 哈哈 哈 哈哈哈哈|\n",
            "sample 4:\n",
            "Q >:我不会为了身体的愉悦 去舍弃精神的愉悦|\n",
            "A >:我日的的     哈 你 你 我我 你 你  我|\n",
            "sample 5:\n",
            "Q >:确实不排除这种可能性 那就需要责任心去干涉|\n",
            "A >:这个个不不的不不不不不的不不不不不不不|\n",
            "sample 6:\n",
            "Q >:是的|\n",
            "A >:您我哈哈哈哈哈哈的的的的的    |\n",
            "-----------------------------------------------------\n",
            "batch 1500 ---------------------------------------\n",
            "  minibatch loss: 4.488375186920166\n",
            "sample 1:\n",
            "Q >:所以事情就说得通|\n",
            "A >:我去 我妈妈的|\n",
            "sample 2:\n",
            "Q >:我也觉得你挺优秀的 不过你也不想讲究 将就 毕竟遇到一个很合适的人概率比较|\n",
            "A >:对啊 你所她我我准准 备|\n",
            "sample 3:\n",
            "Q >:我觉得还是我们两个在一起比较|\n",
            "A >:你想想清  哈哈 哈哈 哈哈 哈哈哈|\n",
            "sample 4:\n",
            "Q >:我不会为了身体的愉悦 去舍弃精神的愉悦|\n",
            "A >:万一一发的    比趣比   我我|\n",
            "sample 5:\n",
            "Q >:确实不排除这种可能性 那就需要责任心去干涉|\n",
            "A >:这个个也不说说现的不不不不不不不不|\n",
            "sample 6:\n",
            "Q >:是的|\n",
            "A >:您今可是上是上是的会不 |\n",
            "-----------------------------------------------------\n",
            "batch 2000 ---------------------------------------\n",
            "  minibatch loss: 3.6685562133789062\n",
            "sample 1:\n",
            "Q >:所以事情就说得通|\n",
            "A >:我去 我妈妈的|\n",
            "sample 2:\n",
            "Q >:我也觉得你挺优秀的 不过你也不想讲究 将就 毕竟遇到一个很合适的人概率比较|\n",
            "A >:对啊 所以我妹我准准|\n",
            "sample 3:\n",
            "Q >:我觉得还是我们两个在一起比较|\n",
            "A >:你想想清楚， 哈哈哈 哈 哈哈 哈|\n",
            "sample 4:\n",
            "Q >:我不会为了身体的愉悦 去舍弃精神的愉悦|\n",
            "A >:万一你发的  比比比   我我我个快|\n",
            "sample 5:\n",
            "Q >:确实不排除这种可能性 那就需要责任心去干涉|\n",
            "A >:这个也不们说现在的不不不不不不不不不|\n",
            "sample 6:\n",
            "Q >:是的|\n",
            "A >:您今天上是可上是可哈哈哈|\n",
            "-----------------------------------------------------\n",
            "batch 2500 ---------------------------------------\n",
            "  minibatch loss: 2.8950717449188232\n",
            "sample 1:\n",
            "Q >:所以事情就说得通|\n",
            "A >:我去 我妈妈在说|\n",
            "sample 2:\n",
            "Q >:我也觉得你挺优秀的 不过你也不想讲究 将就 毕竟遇到一个很合适的人概率比较|\n",
            "A >:对啊 所以你要硬准备变|\n",
            "sample 3:\n",
            "Q >:我觉得还是我们两个在一起比较|\n",
            "A >:你想想清楚哦 哈哈 哈 好哈哈 好哈|\n",
            "sample 4:\n",
            "Q >:我不会为了身体的愉悦 去舍弃精神的愉悦|\n",
            "A >:万一你发    比比比给趣趣个你我我我我我|\n",
            "sample 5:\n",
            "Q >:确实不排除这种可能性 那就需要责任心去干涉|\n",
            "A >:这个也不们现在的不不不不不的不的不|\n",
            "sample 6:\n",
            "Q >:是的|\n",
            "A >:您今可是责上上哈哈哈哈不哈哈|\n",
            "-----------------------------------------------------\n",
            "batch 3000 ---------------------------------------\n",
            "  minibatch loss: 2.1847047805786133\n",
            "sample 1:\n",
            "Q >:所以事情就说得通|\n",
            "A >:我去 我妈妈在说|\n",
            "sample 2:\n",
            "Q >:我也觉得你挺优秀的 不过你也不想讲究 将就 毕竟遇到一个很合适的人概率比较|\n",
            "A >:对啊 所以你要我准备变|\n",
            "sample 3:\n",
            "Q >:我觉得还是我们两个在一起比较|\n",
            "A >:你想想清楚哦 哈哈哈 好好 好好好|\n",
            "sample 4:\n",
            "Q >:我不会为了身体的愉悦 去舍弃精神的愉悦|\n",
            "A >:万一你发现  有个 趣趣趣趣 我我更快我我|\n",
            "sample 5:\n",
            "Q >:确实不排除这种可能性 那就需要责任心去干涉|\n",
            "A >:这个也不现现在的的的的的的的球球|\n",
            "sample 6:\n",
            "Q >:是的|\n",
            "A >:您今你是责任能赶也哈哈哈|\n",
            "-----------------------------------------------------\n"
          ],
          "name": "stdout"
        }
      ]
    },
    {
      "metadata": {
        "id": "kBlJnQGR3Fpi",
        "colab_type": "code",
        "colab": {}
      },
      "cell_type": "code",
      "source": [
        ""
      ],
      "execution_count": 0,
      "outputs": []
    },
    {
      "metadata": {
        "id": "_QTzIo472_AR",
        "colab_type": "code",
        "colab": {}
      },
      "cell_type": "code",
      "source": [
        ""
      ],
      "execution_count": 0,
      "outputs": []
    },
    {
      "metadata": {
        "id": "7M_9MAGE1W2U",
        "colab_type": "code",
        "outputId": "c7a82976-86b6-493f-fd46-40fd7ed7417b",
        "colab": {
          "base_uri": "https://localhost:8080/",
          "height": 233
        }
      },
      "cell_type": "code",
      "source": [
        "test_data = []\n",
        "\n",
        "a1 = dict()\n",
        "a1['input'] = [char2idx['哈'], char2idx['哈']]\n",
        "a1['output'] = [char2idx['呵'], char2idx['呵']]\n",
        "\n",
        "a3 = dict()\n",
        "a3['input'] = [char2idx['兰'], char2idx['妹'], char2idx['妹']]\n",
        "a3['output'] = [char2idx['爪'], char2idx['子']]\n",
        "\n",
        "a2 = dict()\n",
        "a2['input'] = [char2idx['我'], char2idx['爱'], char2idx['你']] \n",
        "a2['output'] = [char2idx['妈'], char2idx['卖'], char2idx['批']]\n",
        "\n",
        "test_data.append(a1)\n",
        "test_data.append(a2)\n",
        "test_data.append(a3)\n",
        "\n",
        "\n",
        "_inputs, _targets, input_lengths, output_lengths = batchFun(test_data) \n",
        "    \n",
        "_batch = {\n",
        "  encoder_inputs: _inputs,\n",
        "  encoder_inputs_length: input_lengths,\n",
        "  decoder_targets: _targets,\n",
        "  decoder_inputs_length: output_lengths,\n",
        "}\n",
        "\n",
        "predict_ = sess.run(decoder_prediction, _batch)\n",
        "#for i, (inp, pred) in enumerate(zip(fd[encoder_inputs].T, predict_.T)):\n",
        "\n",
        "for i, (inp,anw, pred) in enumerate(zip(_batch[encoder_inputs].T, _batch[decoder_targets].T, predict_.T)):\n",
        "  print('样本 {}:'.format(i + 1))\n",
        "  myStr = '' \n",
        "  for j in range(len(inp)):\n",
        "    if inp[j] != 0 and inp[j] != 1:\n",
        "      myStr += idx2char[inp[j]]\n",
        "  print('问题 >:{}|'.format(myStr))\n",
        "  myStr = ''\n",
        "  for j in range(len(anw)):\n",
        "    if anw[j] != 0 and anw[j] != 1:\n",
        "      myStr += idx2char[anw[j]]\n",
        "  print('正确答案 >:{}|'.format(myStr))\n",
        "  myStr = ''\n",
        "  for j in range(len(pred)):\n",
        "    if pred[j] != 0 and pred[j] != 1:\n",
        "      myStr += idx2char[pred[j]]\n",
        "  print('预测 >:{}|'.format(myStr))\n",
        "  if i >= 20:\n",
        "    break\n",
        "\n"
      ],
      "execution_count": 0,
      "outputs": [
        {
          "output_type": "stream",
          "text": [
            "样本 1:\n",
            "问题 >:哈哈|\n",
            "正确答案 >:呵呵|\n",
            "预测 >:  发|\n",
            "样本 2:\n",
            "问题 >:我爱你|\n",
            "正确答案 >:妈卖批|\n",
            "预测 >:哼我望|\n",
            "样本 3:\n",
            "问题 >:兰妹妹|\n",
            "正确答案 >:爪子|\n",
            "预测 >:电日|\n"
          ],
          "name": "stdout"
        }
      ]
    },
    {
      "metadata": {
        "colab_type": "code",
        "id": "wwsrpOik5zhv",
        "outputId": "ab4a2483-997f-4bf7-d9ec-fef7cadf359b",
        "colab": {
          "base_uri": "https://localhost:8080/",
          "height": 283
        }
      },
      "cell_type": "code",
      "source": [
        "%matplotlib inline\n",
        "import matplotlib.pyplot as plt\n",
        "plt.plot(loss_track)\n",
        "print('loss {:.4f} after {} examples (batch_size={})'.format(loss_track[-1], len(loss_track)*batch_size, batch_size))"
      ],
      "execution_count": 0,
      "outputs": [
        {
          "output_type": "stream",
          "text": [
            "loss 2.1842 after Tensor(\"mul:0\", shape=(), dtype=int32) examples (batch_size=Tensor(\"unstack:1\", shape=(), dtype=int32))\n"
          ],
          "name": "stdout"
        },
        {
          "output_type": "display_data",
          "data": {
            "image/png": "[encoded data removed]",
            "text/plain": [
              "<Figure size 432x288 with 1 Axes>"
            ]
          },
          "metadata": {
            "tags": []
          }
        }
      ]
    },
    {
      "metadata": {
        "id": "KapbnDDMw06z",
        "colab_type": "code",
        "colab": {}
      },
      "cell_type": "code",
      "source": [
        ""
      ],
      "execution_count": 0,
      "outputs": []
    }
  ]
}